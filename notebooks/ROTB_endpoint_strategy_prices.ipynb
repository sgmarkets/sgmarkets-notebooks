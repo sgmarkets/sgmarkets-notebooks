{
 "cells": [
  {
   "cell_type": "markdown",
   "metadata": {
    "extensions": {
     "jupyter_dashboards": {
      "version": 1,
      "views": {
       "grid_default": {
        "col": 4,
        "height": 2,
        "hidden": false,
        "row": 0,
        "width": 4
       },
       "report_default": {
        "hidden": false
       }
      }
     }
    }
   },
   "source": [
    "#  SGmarkets ROTB strategy prices endpoint"
   ]
  },
  {
   "cell_type": "markdown",
   "metadata": {},
   "source": [
    "**The [compute-strategy/prices endpoint](https://analytics-api.sgmarkets.com/rotb/v1/swagger/ui/index#!/Swaption/Swaption_StrategyStrategy2) enables to compute the historical performances of vol strategies**.   \n",
    "**The calculation can be performed using either relative (analytics) or absolute (backtests) parameters.** "
   ]
  },
  {
   "cell_type": "code",
   "execution_count": 1,
   "metadata": {
    "extensions": {
     "jupyter_dashboards": {
      "version": 1,
      "views": {
       "grid_default": {
        "hidden": true
       },
       "report_default": {
        "hidden": true
       }
      }
     }
    }
   },
   "outputs": [],
   "source": [
    "%load_ext autoreload\n",
    "%autoreload 2"
   ]
  },
  {
   "cell_type": "code",
   "execution_count": 2,
   "metadata": {
    "extensions": {
     "jupyter_dashboards": {
      "version": 1,
      "views": {
       "grid_default": {
        "col": 0,
        "height": 4,
        "hidden": false,
        "row": 0,
        "width": 4
       },
       "report_default": {
        "hidden": true
       }
      }
     }
    }
   },
   "outputs": [
    {
     "data": {
      "application/javascript": [
       "\n",
       "require([\"jquery\", \"https://code.highcharts.com/stock/highstock.js\", \"https://d3js.org/d3.v3.min.js\"], function() {\n",
       "    require([\"https://cdn.datatables.net/1.10.10/js/jquery.dataTables.min.js\", \"https://code.highcharts.com/stock/highcharts-more.js\", \"https://code.highcharts.com/modules/drilldown.js\", \"https://code.highcharts.com/modules/exporting.js\", \"https://code.highcharts.com/modules/heatmap.js\", \"https://code.highcharts.com/modules/treemap.js\", \"https://code.highcharts.com/modules/sunburst.js\", \"https://highcharts.github.io/export-csv/export-csv.js\"], function() {\n",
       "        console.log(\"The following js libs loaded:\");\n",
       "        console.log(\"First:\");\n",
       "        console.log(\"jquery\");console.log(\"https://code.highcharts.com/stock/highstock.js\");console.log(\"https://d3js.org/d3.v3.min.js\");\n",
       "        console.log(\"Then:\");\n",
       "        console.log(\"https://cdn.datatables.net/1.10.10/js/jquery.dataTables.min.js\");console.log(\"https://code.highcharts.com/stock/highcharts-more.js\");console.log(\"https://code.highcharts.com/modules/drilldown.js\");console.log(\"https://code.highcharts.com/modules/exporting.js\");console.log(\"https://code.highcharts.com/modules/heatmap.js\");console.log(\"https://code.highcharts.com/modules/treemap.js\");console.log(\"https://code.highcharts.com/modules/sunburst.js\");console.log(\"https://highcharts.github.io/export-csv/export-csv.js\");\n",
       "    });\n",
       "});"
      ],
      "text/plain": [
       "<IPython.core.display.Javascript object>"
      ]
     },
     "metadata": {},
     "output_type": "display_data"
    },
    {
     "data": {
      "text/html": [
       "<script>\n",
       "require([\"https://cdnjs.cloudflare.com/ajax/libs/vis/4.7.0/vis.js\"], function(lib) {\n",
       "    console.log(\"The following js libs loaded:\");\n",
       "    console.log(\"https://cdnjs.cloudflare.com/ajax/libs/vis/4.7.0/vis.js\");\n",
       "    window.vis = jQuery.extend(true, {}, lib);\n",
       "    console.log('vis js lib accessible as vis');\n",
       "\n",
       "});\n",
       "</script>"
      ],
      "text/plain": [
       "<IPython.core.display.HTML object>"
      ]
     },
     "metadata": {},
     "output_type": "display_data"
    }
   ],
   "source": [
    "%matplotlib inline\n",
    "\n",
    "import datetime as dt\n",
    "import numpy as np\n",
    "import pandas as pd\n",
    "\n",
    "from pandas.tseries.offsets import BDay\n",
    "\n",
    "from sgmarkets_api_auth import Api\n",
    "from sgmarkets_plot import Plot\n",
    "import sgmarkets_api_analytics_rotb as ROTB\n",
    "\n",
    "from sgmarkets_api_auth.util import topickle, unpickle\n",
    "import sgmarkets_api_analytics_rotb.biz as biz"
   ]
  },
  {
   "cell_type": "markdown",
   "metadata": {},
   "source": [
    "# A - Relative parameters (analytics)"
   ]
  },
  {
   "cell_type": "markdown",
   "metadata": {
    "extensions": {
     "jupyter_dashboards": {
      "version": 1,
      "views": {
       "grid_default": {
        "col": 8,
        "height": 4,
        "hidden": false,
        "row": 12,
        "width": 4
       },
       "report_default": {
        "hidden": false
       }
      }
     }
    }
   },
   "source": [
    "## 1 - Authenticate"
   ]
  },
  {
   "cell_type": "code",
   "execution_count": 3,
   "metadata": {
    "extensions": {
     "jupyter_dashboards": {
      "version": 1,
      "views": {
       "grid_default": {
        "col": 8,
        "height": 6,
        "hidden": false,
        "row": 0,
        "width": 4
       },
       "report_default": {
        "hidden": true
       }
      }
     }
    }
   },
   "outputs": [
    {
     "data": {
      "text/html": [
       "<img src=\"https://gitlab.com/sgmarkets/sgmarkets-api-auth/raw/master/sgmarkets_api_auth/img/sg-research-logo-displayed.png\"/>"
      ],
      "text/plain": [
       "<IPython.core.display.Image object>"
      ]
     },
     "metadata": {},
     "output_type": "display_data"
    },
    {
     "name": "stdout",
     "output_type": "stream",
     "text": [
      "Variables in /Users/Olivier/my_secret.txt\n",
      "SG_LOGIN=o*******m\n",
      "SG_PASSWORD=m************************d\n",
      "PROXY_LOGIN=m*******n\n",
      "PROXY_PASSWORD=m***********************************d\n",
      "PROXY_HOST=m*******************t\n",
      "PROXY_PORT=9******9\n",
      "Token endpoint: https://login.sgmarkets.com/richclient/gettoken\n",
      "proxies: {}\n",
      "Access token {b102****************************532e} loaded from file /Users/Olivier/my_token.txt\n"
     ]
    }
   ],
   "source": [
    "a = Api(verbose=True)"
   ]
  },
  {
   "cell_type": "markdown",
   "metadata": {
    "extensions": {
     "jupyter_dashboards": {
      "version": 1,
      "views": {
       "grid_default": {
        "col": 4,
        "height": 4,
        "hidden": false,
        "row": 10,
        "width": 4
       },
       "report_default": {
        "hidden": false
       }
      }
     }
    }
   },
   "source": [
    "## 2 - Build Request\n",
    "### Example: 10Y JPY 3M6M ATMF reverse receiver calendar spread"
   ]
  },
  {
   "cell_type": "code",
   "execution_count": 4,
   "metadata": {
    "extensions": {
     "jupyter_dashboards": {
      "version": 1,
      "views": {
       "grid_default": {
        "col": 8,
        "height": 6,
        "hidden": false,
        "row": 6,
        "width": 4
       },
       "report_default": {
        "hidden": true
       }
      }
     }
    }
   },
   "outputs": [
    {
     "data": {
      "text/markdown": [
       "**<span style=\"color:red;\">WARNING</span> -**improper combinaison of parameters resulting in an unclear strategy, by default missing parameters will be filled by repetition"
      ],
      "text/plain": [
       "<IPython.core.display.Markdown object>"
      ]
     },
     "metadata": {},
     "output_type": "display_data"
    },
    {
     "data": {
      "text/markdown": [
       "**<span style=\"color:black;\">INFO</span> -** Your request contains 2 prices over 6 dates i.e. total 12 prices."
      ],
      "text/plain": [
       "<IPython.core.display.Markdown object>"
      ]
     },
     "metadata": {},
     "output_type": "display_data"
    },
    {
     "data": {
      "text/markdown": [
       "\n",
       "A RequestROTB object has the properties after the `expand()` method:\n",
       "+ `url`: https://analytics-api.sgmarkets.com/rotb/v1/compute-strategy/prices\n",
       "+ `dic_input`: user input (dictionary)\n",
       "+ `df_top`: parameters of the request not in a leg (dataframe)\n",
       "+ `df_leg`: parameters of the request in a leg (dataframe)\n",
       "    + A leg contains the following parameters: ['curve', 'expiry', 'tenor', 'strike', 'nominal', 'type', 'settlement', 'pricingStrategy', 'strategyWeight', 'customEntries']\n",
       "    + Each param can have multiple comma separated values\n",
       "+ `li_dic_api`: data ready to be sent to the API - built from user input by `expand()` (list of dictionaries)\n",
       "    + This is a list because the request may be split in several chunks\n",
       "    + Legs are constructed from user input and by filling missing values by repition if needed.\n",
       "        "
      ],
      "text/plain": [
       "<IPython.core.display.Markdown object>"
      ]
     },
     "execution_count": 4,
     "metadata": {},
     "output_type": "execute_result"
    }
   ],
   "source": [
    "ep = ROTB.endpoint.v1_compute_strategy_prices\n",
    "rq = ep.request()\n",
    "start=dt.date.today()-dt.timedelta(days=10)\n",
    "end=dt.date.today()-dt.timedelta(days=1)\n",
    "\n",
    "rq.errorMode = 'Full'\n",
    "rq.startDate = start.strftime('%Y-%m-%d')\n",
    "rq.endDate = end.strftime('%Y-%m-%d')\n",
    "\n",
    "rq.weighting = 'DV01'\n",
    "\n",
    "rq.curve = 'JPY LIBOR 6M' \n",
    "rq.expiry = '3M,6M'\n",
    "rq.tenor = '10Y'\n",
    "rq.strike= '@0bp'\n",
    "rq.type = 'receiver'\n",
    "rq.settlement = 'cash'\n",
    "rq.pricingStrategy = 'Auto'\n",
    "rq.nominal = int(1e6)\n",
    "rq.strategyWeight = '1,-1'\n",
    "\n",
    "rq.expand()\n",
    "rq.info()"
   ]
  },
  {
   "cell_type": "markdown",
   "metadata": {
    "extensions": {
     "jupyter_dashboards": {
      "version": 1,
      "views": {
       "grid_default": {
        "col": 8,
        "height": 4,
        "hidden": false,
        "row": 16,
        "width": 4
       },
       "report_default": {
        "hidden": false
       }
      }
     }
    }
   },
   "source": [
    "## 3.1 - Make Request\n",
    "Save response to work locally."
   ]
  },
  {
   "cell_type": "code",
   "execution_count": 5,
   "metadata": {
    "extensions": {
     "jupyter_dashboards": {
      "version": 1,
      "views": {
       "grid_default": {
        "col": 0,
        "height": 43,
        "hidden": false,
        "row": 4,
        "width": 4
       },
       "report_default": {
        "hidden": true
       }
      }
     }
    },
    "scrolled": true
   },
   "outputs": [
    {
     "name": "stdout",
     "output_type": "stream",
     "text": [
      "calling API...\n",
      "chunk 1/1 done in 1.08 s\n"
     ]
    }
   ],
   "source": [
    "res1 = rq.call_api(a)\n",
    "\n",
    "topickle('101.pk', res1)"
   ]
  },
  {
   "cell_type": "markdown",
   "metadata": {
    "extensions": {
     "jupyter_dashboards": {
      "version": 1,
      "views": {
       "grid_default": {
        "col": 4,
        "height": 4,
        "hidden": false,
        "row": 14,
        "width": 4
       },
       "report_default": {
        "hidden": false
       }
      }
     }
    }
   },
   "source": [
    "## 3.2 - Response Structure "
   ]
  },
  {
   "cell_type": "code",
   "execution_count": 6,
   "metadata": {
    "extensions": {
     "jupyter_dashboards": {
      "version": 1,
      "views": {
       "grid_default": {
        "col": 8,
        "height": 21,
        "hidden": false,
        "row": 20,
        "width": 4
       },
       "report_default": {
        "hidden": false
       }
      }
     }
    },
    "scrolled": true
   },
   "outputs": [
    {
     "data": {
      "text/markdown": [
       "\n",
       "A PostprocessROTB object from ComputeStrategyPrices endpoint has the properties:\n",
       "+ `df_req`: request data (dataframe)\n",
       "+ `df_res`: response data (dataframe)\n",
       "\n",
       "\n",
       "+ `dic_req_param`: params in request, each param contains a list of all values taken (dictionary)\n",
       "+ `dic_res_param`: params in response, each param contains a list of all values taken (dictionary)\n",
       "\n",
       "+ `raw_data`: raw data in response under key 'componentSeries' (dictionary)\n",
       "\n",
       "and the methods:\n",
       "+ `save()` to save the data as `.csv` and `.xlsx` files\n",
       "        "
      ],
      "text/plain": [
       "<IPython.core.display.Markdown object>"
      ]
     },
     "execution_count": 6,
     "metadata": {},
     "output_type": "execute_result"
    }
   ],
   "source": [
    "res1 = unpickle('101.pk')\n",
    "res1.info()"
   ]
  },
  {
   "cell_type": "markdown",
   "metadata": {
    "extensions": {
     "jupyter_dashboards": {
      "version": 1,
      "views": {
       "grid_default": {
        "col": 4,
        "height": 4,
        "hidden": false,
        "row": 2,
        "width": 4
       },
       "report_default": {
        "hidden": false
       }
      }
     }
    }
   },
   "source": [
    "## 4 - Show Response"
   ]
  },
  {
   "cell_type": "code",
   "execution_count": 7,
   "metadata": {
    "extensions": {
     "jupyter_dashboards": {
      "version": 1,
      "views": {
       "grid_default": {
        "hidden": true
       },
       "report_default": {
        "hidden": true
       }
      }
     }
    }
   },
   "outputs": [
    {
     "data": {
      "text/html": [
       "<div>\n",
       "<style scoped>\n",
       "    .dataframe tbody tr th:only-of-type {\n",
       "        vertical-align: middle;\n",
       "    }\n",
       "\n",
       "    .dataframe tbody tr th {\n",
       "        vertical-align: top;\n",
       "    }\n",
       "\n",
       "    .dataframe thead th {\n",
       "        text-align: right;\n",
       "    }\n",
       "</style>\n",
       "<table border=\"1\" class=\"dataframe\">\n",
       "  <thead>\n",
       "    <tr style=\"text-align: right;\">\n",
       "      <th></th>\n",
       "      <th>delta</th>\n",
       "      <th>forwardValue</th>\n",
       "      <th>gamma</th>\n",
       "      <th>spotValue</th>\n",
       "      <th>theta</th>\n",
       "      <th>vega</th>\n",
       "      <th>volNormal</th>\n",
       "      <th>tag</th>\n",
       "    </tr>\n",
       "    <tr>\n",
       "      <th>date</th>\n",
       "      <th></th>\n",
       "      <th></th>\n",
       "      <th></th>\n",
       "      <th></th>\n",
       "      <th></th>\n",
       "      <th></th>\n",
       "      <th></th>\n",
       "      <th></th>\n",
       "    </tr>\n",
       "  </thead>\n",
       "  <tbody>\n",
       "    <tr>\n",
       "      <th>2018-03-26</th>\n",
       "      <td>5.684342e-14</td>\n",
       "      <td>-1630.448170</td>\n",
       "      <td>20.124458</td>\n",
       "      <td>-1631.092692</td>\n",
       "      <td>-3.214910</td>\n",
       "      <td>-81.699550</td>\n",
       "      <td>-0.000167</td>\n",
       "      <td>0</td>\n",
       "    </tr>\n",
       "    <tr>\n",
       "      <th>2018-03-27</th>\n",
       "      <td>1.136868e-13</td>\n",
       "      <td>-1512.345992</td>\n",
       "      <td>18.681607</td>\n",
       "      <td>-1512.968577</td>\n",
       "      <td>-3.651218</td>\n",
       "      <td>-81.641330</td>\n",
       "      <td>-0.000118</td>\n",
       "      <td>1</td>\n",
       "    </tr>\n",
       "    <tr>\n",
       "      <th>2018-03-28</th>\n",
       "      <td>1.136868e-13</td>\n",
       "      <td>-1492.327326</td>\n",
       "      <td>18.091668</td>\n",
       "      <td>-1492.959098</td>\n",
       "      <td>-3.815134</td>\n",
       "      <td>-81.636189</td>\n",
       "      <td>-0.000105</td>\n",
       "      <td>2</td>\n",
       "    </tr>\n",
       "    <tr>\n",
       "      <th>2018-03-29</th>\n",
       "      <td>0.000000e+00</td>\n",
       "      <td>-1591.261614</td>\n",
       "      <td>20.321986</td>\n",
       "      <td>-1591.900695</td>\n",
       "      <td>-3.130205</td>\n",
       "      <td>-80.857121</td>\n",
       "      <td>-0.000164</td>\n",
       "      <td>3</td>\n",
       "    </tr>\n",
       "    <tr>\n",
       "      <th>2018-03-30</th>\n",
       "      <td>5.684342e-14</td>\n",
       "      <td>-1565.245672</td>\n",
       "      <td>20.958722</td>\n",
       "      <td>-1565.871429</td>\n",
       "      <td>-3.109203</td>\n",
       "      <td>-81.147695</td>\n",
       "      <td>-0.000162</td>\n",
       "      <td>4</td>\n",
       "    </tr>\n",
       "    <tr>\n",
       "      <th>2018-04-02</th>\n",
       "      <td>0.000000e+00</td>\n",
       "      <td>-1545.532586</td>\n",
       "      <td>20.871146</td>\n",
       "      <td>-1546.153269</td>\n",
       "      <td>-3.213522</td>\n",
       "      <td>-81.943458</td>\n",
       "      <td>-0.000151</td>\n",
       "      <td>5</td>\n",
       "    </tr>\n",
       "  </tbody>\n",
       "</table>\n",
       "</div>"
      ],
      "text/plain": [
       "                   delta  forwardValue      gamma    spotValue     theta  \\\n",
       "date                                                                       \n",
       "2018-03-26  5.684342e-14  -1630.448170  20.124458 -1631.092692 -3.214910   \n",
       "2018-03-27  1.136868e-13  -1512.345992  18.681607 -1512.968577 -3.651218   \n",
       "2018-03-28  1.136868e-13  -1492.327326  18.091668 -1492.959098 -3.815134   \n",
       "2018-03-29  0.000000e+00  -1591.261614  20.321986 -1591.900695 -3.130205   \n",
       "2018-03-30  5.684342e-14  -1565.245672  20.958722 -1565.871429 -3.109203   \n",
       "2018-04-02  0.000000e+00  -1545.532586  20.871146 -1546.153269 -3.213522   \n",
       "\n",
       "                 vega  volNormal  tag  \n",
       "date                                   \n",
       "2018-03-26 -81.699550  -0.000167    0  \n",
       "2018-03-27 -81.641330  -0.000118    1  \n",
       "2018-03-28 -81.636189  -0.000105    2  \n",
       "2018-03-29 -80.857121  -0.000164    3  \n",
       "2018-03-30 -81.147695  -0.000162    4  \n",
       "2018-04-02 -81.943458  -0.000151    5  "
      ]
     },
     "execution_count": 7,
     "metadata": {},
     "output_type": "execute_result"
    }
   ],
   "source": [
    "res1.df_res"
   ]
  },
  {
   "cell_type": "markdown",
   "metadata": {},
   "source": [
    "## 5 - Slice Response \n",
    "The response is a pandas dataframe.  \n",
    "Use the built in methods."
   ]
  },
  {
   "cell_type": "code",
   "execution_count": 8,
   "metadata": {},
   "outputs": [
    {
     "data": {
      "text/html": [
       "<div>\n",
       "<style scoped>\n",
       "    .dataframe tbody tr th:only-of-type {\n",
       "        vertical-align: middle;\n",
       "    }\n",
       "\n",
       "    .dataframe tbody tr th {\n",
       "        vertical-align: top;\n",
       "    }\n",
       "\n",
       "    .dataframe thead th {\n",
       "        text-align: right;\n",
       "    }\n",
       "</style>\n",
       "<table border=\"1\" class=\"dataframe\">\n",
       "  <thead>\n",
       "    <tr style=\"text-align: right;\">\n",
       "      <th></th>\n",
       "      <th>forwardValue</th>\n",
       "    </tr>\n",
       "    <tr>\n",
       "      <th>date</th>\n",
       "      <th></th>\n",
       "    </tr>\n",
       "  </thead>\n",
       "  <tbody>\n",
       "    <tr>\n",
       "      <th>2018-03-26</th>\n",
       "      <td>-1630.448170</td>\n",
       "    </tr>\n",
       "    <tr>\n",
       "      <th>2018-03-27</th>\n",
       "      <td>-1512.345992</td>\n",
       "    </tr>\n",
       "    <tr>\n",
       "      <th>2018-03-28</th>\n",
       "      <td>-1492.327326</td>\n",
       "    </tr>\n",
       "    <tr>\n",
       "      <th>2018-03-29</th>\n",
       "      <td>-1591.261614</td>\n",
       "    </tr>\n",
       "    <tr>\n",
       "      <th>2018-03-30</th>\n",
       "      <td>-1565.245672</td>\n",
       "    </tr>\n",
       "    <tr>\n",
       "      <th>2018-04-02</th>\n",
       "      <td>-1545.532586</td>\n",
       "    </tr>\n",
       "  </tbody>\n",
       "</table>\n",
       "</div>"
      ],
      "text/plain": [
       "            forwardValue\n",
       "date                    \n",
       "2018-03-26  -1630.448170\n",
       "2018-03-27  -1512.345992\n",
       "2018-03-28  -1492.327326\n",
       "2018-03-29  -1591.261614\n",
       "2018-03-30  -1565.245672\n",
       "2018-04-02  -1545.532586"
      ]
     },
     "metadata": {},
     "output_type": "display_data"
    },
    {
     "data": {
      "text/html": [
       "<div>\n",
       "<style scoped>\n",
       "    .dataframe tbody tr th:only-of-type {\n",
       "        vertical-align: middle;\n",
       "    }\n",
       "\n",
       "    .dataframe tbody tr th {\n",
       "        vertical-align: top;\n",
       "    }\n",
       "\n",
       "    .dataframe thead th {\n",
       "        text-align: right;\n",
       "    }\n",
       "</style>\n",
       "<table border=\"1\" class=\"dataframe\">\n",
       "  <thead>\n",
       "    <tr style=\"text-align: right;\">\n",
       "      <th></th>\n",
       "      <th>delta</th>\n",
       "      <th>forwardValue</th>\n",
       "      <th>gamma</th>\n",
       "      <th>spotValue</th>\n",
       "      <th>theta</th>\n",
       "      <th>vega</th>\n",
       "      <th>volNormal</th>\n",
       "      <th>tag</th>\n",
       "    </tr>\n",
       "  </thead>\n",
       "  <tbody>\n",
       "    <tr>\n",
       "      <th>2018-03-26</th>\n",
       "      <td>5.684342e-14</td>\n",
       "      <td>-1630.44817</td>\n",
       "      <td>20.124458</td>\n",
       "      <td>-1631.092692</td>\n",
       "      <td>-3.21491</td>\n",
       "      <td>-81.69955</td>\n",
       "      <td>-0.000167</td>\n",
       "      <td>0.0</td>\n",
       "    </tr>\n",
       "  </tbody>\n",
       "</table>\n",
       "</div>"
      ],
      "text/plain": [
       "                   delta  forwardValue      gamma    spotValue    theta  \\\n",
       "2018-03-26  5.684342e-14   -1630.44817  20.124458 -1631.092692 -3.21491   \n",
       "\n",
       "                vega  volNormal  tag  \n",
       "2018-03-26 -81.69955  -0.000167  0.0  "
      ]
     },
     "metadata": {},
     "output_type": "display_data"
    }
   ],
   "source": [
    "display(res1.df_res[['forwardValue']])\n",
    "display(pd.DataFrame(res1.df_res.loc['2018-03-26']).T)"
   ]
  },
  {
   "cell_type": "markdown",
   "metadata": {
    "extensions": {
     "jupyter_dashboards": {
      "version": 1,
      "views": {
       "grid_default": {
        "col": 4,
        "height": 4,
        "hidden": false,
        "row": 6,
        "width": 4
       },
       "report_default": {
        "hidden": false
       }
      }
     }
    }
   },
   "source": [
    "## 6 - Example #2\n",
    "### Straddle strategy (EUR 3M10Y ATMF straddle)"
   ]
  },
  {
   "cell_type": "code",
   "execution_count": 9,
   "metadata": {
    "scrolled": true
   },
   "outputs": [
    {
     "data": {
      "text/markdown": [
       "**<span style=\"color:red;\">WARNING</span> -**improper combinaison of parameters resulting in an unclear strategy, by default missing parameters will be filled by repetition"
      ],
      "text/plain": [
       "<IPython.core.display.Markdown object>"
      ]
     },
     "metadata": {},
     "output_type": "display_data"
    },
    {
     "data": {
      "text/markdown": [
       "**<span style=\"color:black;\">INFO</span> -** Your request contains 2 prices over 6 dates i.e. total 12 prices."
      ],
      "text/plain": [
       "<IPython.core.display.Markdown object>"
      ]
     },
     "metadata": {},
     "output_type": "display_data"
    }
   ],
   "source": [
    "ep = ROTB.endpoint.v1_compute_strategy_prices\n",
    "rq = ep.request()\n",
    "start=dt.date.today()-dt.timedelta(days=10)\n",
    "end=dt.date.today()-dt.timedelta(days=1)\n",
    "rq.targetCurrency='EUR' # define the price currency \n",
    "rq.errorMode = 'Full'\n",
    "rq.startDate = start.strftime('%Y-%m-%d')\n",
    "rq.endDate = end.strftime('%Y-%m-%d')\n",
    "\n",
    "rq.weighting = 'DV01'\n",
    "\n",
    "rq.curve = 'EUR EURIBOR 6M' \n",
    "rq.expiry = '3M'\n",
    "rq.tenor = '10Y'\n",
    "rq.strike= '@0bp'\n",
    "rq.type = 'payer,receiver'\n",
    "rq.settlement = 'cash'\n",
    "rq.pricingStrategy = 'Auto'\n",
    "rq.nominal = int(1e6)\n",
    "rq.strategyWeight = '1'\n",
    "\n",
    "rq.expand()"
   ]
  },
  {
   "cell_type": "code",
   "execution_count": 10,
   "metadata": {
    "extensions": {
     "jupyter_dashboards": {
      "version": 1,
      "views": {
       "grid_default": {
        "hidden": true
       },
       "report_default": {
        "hidden": true
       }
      }
     }
    }
   },
   "outputs": [
    {
     "name": "stdout",
     "output_type": "stream",
     "text": [
      "calling API...\n",
      "chunk 1/1 done in 0.81 s\n"
     ]
    },
    {
     "data": {
      "text/html": [
       "<div>\n",
       "<style scoped>\n",
       "    .dataframe tbody tr th:only-of-type {\n",
       "        vertical-align: middle;\n",
       "    }\n",
       "\n",
       "    .dataframe tbody tr th {\n",
       "        vertical-align: top;\n",
       "    }\n",
       "\n",
       "    .dataframe thead th {\n",
       "        text-align: right;\n",
       "    }\n",
       "</style>\n",
       "<table border=\"1\" class=\"dataframe\">\n",
       "  <thead>\n",
       "    <tr style=\"text-align: right;\">\n",
       "      <th></th>\n",
       "      <th>delta</th>\n",
       "      <th>forwardValue</th>\n",
       "      <th>gamma</th>\n",
       "      <th>spotValue</th>\n",
       "      <th>theta</th>\n",
       "      <th>vega</th>\n",
       "      <th>volNormal</th>\n",
       "      <th>tag</th>\n",
       "    </tr>\n",
       "    <tr>\n",
       "      <th>date</th>\n",
       "      <th></th>\n",
       "      <th></th>\n",
       "      <th></th>\n",
       "      <th></th>\n",
       "      <th></th>\n",
       "      <th></th>\n",
       "      <th></th>\n",
       "      <th></th>\n",
       "    </tr>\n",
       "  </thead>\n",
       "  <tbody>\n",
       "    <tr>\n",
       "      <th>2018-03-26</th>\n",
       "      <td>9.453089e-07</td>\n",
       "      <td>14248.222628</td>\n",
       "      <td>39.890718</td>\n",
       "      <td>14261.188354</td>\n",
       "      <td>-77.506458</td>\n",
       "      <td>378.670321</td>\n",
       "      <td>0.007532</td>\n",
       "      <td>0</td>\n",
       "    </tr>\n",
       "    <tr>\n",
       "      <th>2018-03-27</th>\n",
       "      <td>9.462721e-07</td>\n",
       "      <td>14144.286325</td>\n",
       "      <td>40.265788</td>\n",
       "      <td>14157.150327</td>\n",
       "      <td>-76.941034</td>\n",
       "      <td>379.056112</td>\n",
       "      <td>0.007470</td>\n",
       "      <td>1</td>\n",
       "    </tr>\n",
       "    <tr>\n",
       "      <th>2018-03-28</th>\n",
       "      <td>9.469999e-07</td>\n",
       "      <td>14319.673681</td>\n",
       "      <td>39.833846</td>\n",
       "      <td>14332.693578</td>\n",
       "      <td>-77.895074</td>\n",
       "      <td>379.347746</td>\n",
       "      <td>0.007556</td>\n",
       "      <td>2</td>\n",
       "    </tr>\n",
       "    <tr>\n",
       "      <th>2018-03-29</th>\n",
       "      <td>9.468211e-07</td>\n",
       "      <td>13978.502827</td>\n",
       "      <td>40.790789</td>\n",
       "      <td>13991.163105</td>\n",
       "      <td>-76.038930</td>\n",
       "      <td>379.276070</td>\n",
       "      <td>0.007378</td>\n",
       "      <td>3</td>\n",
       "    </tr>\n",
       "    <tr>\n",
       "      <th>2018-03-30</th>\n",
       "      <td>9.472560e-07</td>\n",
       "      <td>13970.302651</td>\n",
       "      <td>40.852635</td>\n",
       "      <td>13982.819085</td>\n",
       "      <td>-76.828676</td>\n",
       "      <td>377.382425</td>\n",
       "      <td>0.007410</td>\n",
       "      <td>4</td>\n",
       "    </tr>\n",
       "    <tr>\n",
       "      <th>2018-04-02</th>\n",
       "      <td>9.474223e-07</td>\n",
       "      <td>13871.590696</td>\n",
       "      <td>41.157804</td>\n",
       "      <td>13884.017462</td>\n",
       "      <td>-76.285810</td>\n",
       "      <td>377.448702</td>\n",
       "      <td>0.007357</td>\n",
       "      <td>5</td>\n",
       "    </tr>\n",
       "  </tbody>\n",
       "</table>\n",
       "</div>"
      ],
      "text/plain": [
       "                   delta  forwardValue      gamma     spotValue      theta  \\\n",
       "date                                                                         \n",
       "2018-03-26  9.453089e-07  14248.222628  39.890718  14261.188354 -77.506458   \n",
       "2018-03-27  9.462721e-07  14144.286325  40.265788  14157.150327 -76.941034   \n",
       "2018-03-28  9.469999e-07  14319.673681  39.833846  14332.693578 -77.895074   \n",
       "2018-03-29  9.468211e-07  13978.502827  40.790789  13991.163105 -76.038930   \n",
       "2018-03-30  9.472560e-07  13970.302651  40.852635  13982.819085 -76.828676   \n",
       "2018-04-02  9.474223e-07  13871.590696  41.157804  13884.017462 -76.285810   \n",
       "\n",
       "                  vega  volNormal  tag  \n",
       "date                                    \n",
       "2018-03-26  378.670321   0.007532    0  \n",
       "2018-03-27  379.056112   0.007470    1  \n",
       "2018-03-28  379.347746   0.007556    2  \n",
       "2018-03-29  379.276070   0.007378    3  \n",
       "2018-03-30  377.382425   0.007410    4  \n",
       "2018-04-02  377.448702   0.007357    5  "
      ]
     },
     "execution_count": 10,
     "metadata": {},
     "output_type": "execute_result"
    }
   ],
   "source": [
    "res1 = rq.call_api(a)\n",
    "res1.df_res"
   ]
  },
  {
   "cell_type": "markdown",
   "metadata": {
    "extensions": {
     "jupyter_dashboards": {
      "version": 1,
      "views": {
       "grid_default": {
        "col": 4,
        "height": 4,
        "hidden": false,
        "row": 18,
        "width": 4
       },
       "report_default": {
        "hidden": false
       }
      }
     }
    }
   },
   "source": [
    "## 7 - Example #3\n",
    "### Strangle strategy (EUR 3M10Y 25 delta strangle)"
   ]
  },
  {
   "cell_type": "code",
   "execution_count": 11,
   "metadata": {
    "extensions": {
     "jupyter_dashboards": {
      "version": 1,
      "views": {
       "grid_default": {
        "col": 4,
        "height": 54,
        "hidden": false,
        "row": 22,
        "width": 4
       },
       "report_default": {
        "hidden": false
       }
      }
     }
    }
   },
   "outputs": [
    {
     "data": {
      "text/markdown": [
       "**<span style=\"color:red;\">WARNING</span> -**improper combinaison of parameters resulting in an unclear strategy, by default missing parameters will be filled by repetition"
      ],
      "text/plain": [
       "<IPython.core.display.Markdown object>"
      ]
     },
     "metadata": {},
     "output_type": "display_data"
    },
    {
     "data": {
      "text/markdown": [
       "**<span style=\"color:black;\">INFO</span> -** Your request contains 2 prices over 6 dates i.e. total 12 prices."
      ],
      "text/plain": [
       "<IPython.core.display.Markdown object>"
      ]
     },
     "metadata": {},
     "output_type": "display_data"
    }
   ],
   "source": [
    "# delta 25 on both side\n",
    "ep = ROTB.endpoint.v1_compute_strategy_prices\n",
    "rq = ep.request()\n",
    "start=dt.date.today()-dt.timedelta(days=10)\n",
    "end=dt.date.today()-dt.timedelta(days=1)\n",
    "rq.targetCurrency='EUR'\n",
    "rq.errorMode = 'Full'\n",
    "rq.startDate = start.strftime('%Y-%m-%d')\n",
    "rq.endDate = end.strftime('%Y-%m-%d')\n",
    "\n",
    "rq.weighting = 'None'\n",
    "\n",
    "rq.curve = 'EUR EURIBOR 6M' \n",
    "rq.expiry = '3M'\n",
    "rq.tenor = '10Y'\n",
    "rq.strike= 'd25%'\n",
    "rq.type = 'payer,receiver'\n",
    "rq.settlement = 'cash'\n",
    "rq.pricingStrategy = 'GaussShiftedGauss'\n",
    "rq.nominal = int(1e6)\n",
    "rq.strategyWeight = '1'\n",
    "\n",
    "rq.expand()"
   ]
  },
  {
   "cell_type": "code",
   "execution_count": 12,
   "metadata": {},
   "outputs": [
    {
     "name": "stdout",
     "output_type": "stream",
     "text": [
      "calling API...\n",
      "chunk 1/1 done in 0.98 s\n"
     ]
    }
   ],
   "source": [
    "res1 = rq.call_api(a)"
   ]
  },
  {
   "cell_type": "code",
   "execution_count": 13,
   "metadata": {
    "scrolled": true
   },
   "outputs": [
    {
     "data": {
      "text/html": [
       "<div>\n",
       "<style scoped>\n",
       "    .dataframe tbody tr th:only-of-type {\n",
       "        vertical-align: middle;\n",
       "    }\n",
       "\n",
       "    .dataframe tbody tr th {\n",
       "        vertical-align: top;\n",
       "    }\n",
       "\n",
       "    .dataframe thead th {\n",
       "        text-align: right;\n",
       "    }\n",
       "</style>\n",
       "<table border=\"1\" class=\"dataframe\">\n",
       "  <thead>\n",
       "    <tr style=\"text-align: right;\">\n",
       "      <th></th>\n",
       "      <th>delta</th>\n",
       "      <th>forwardValue</th>\n",
       "      <th>gamma</th>\n",
       "      <th>spotValue</th>\n",
       "      <th>theta</th>\n",
       "      <th>vega</th>\n",
       "      <th>volNormal</th>\n",
       "      <th>tag</th>\n",
       "    </tr>\n",
       "    <tr>\n",
       "      <th>date</th>\n",
       "      <th></th>\n",
       "      <th></th>\n",
       "      <th></th>\n",
       "      <th></th>\n",
       "      <th></th>\n",
       "      <th></th>\n",
       "      <th></th>\n",
       "      <th></th>\n",
       "    </tr>\n",
       "  </thead>\n",
       "  <tbody>\n",
       "    <tr>\n",
       "      <th>2018-03-26</th>\n",
       "      <td>7.062619</td>\n",
       "      <td>5448.318283</td>\n",
       "      <td>31.352756</td>\n",
       "      <td>5453.276192</td>\n",
       "      <td>-63.085536</td>\n",
       "      <td>301.541796</td>\n",
       "      <td>0.007693</td>\n",
       "      <td>0</td>\n",
       "    </tr>\n",
       "    <tr>\n",
       "      <th>2018-03-27</th>\n",
       "      <td>7.025587</td>\n",
       "      <td>5386.919462</td>\n",
       "      <td>31.742713</td>\n",
       "      <td>5391.818779</td>\n",
       "      <td>-62.400120</td>\n",
       "      <td>301.768497</td>\n",
       "      <td>0.007604</td>\n",
       "      <td>1</td>\n",
       "    </tr>\n",
       "    <tr>\n",
       "      <th>2018-03-28</th>\n",
       "      <td>5.986941</td>\n",
       "      <td>5446.944074</td>\n",
       "      <td>31.371526</td>\n",
       "      <td>5451.896607</td>\n",
       "      <td>-63.104749</td>\n",
       "      <td>302.044197</td>\n",
       "      <td>0.007684</td>\n",
       "      <td>2</td>\n",
       "    </tr>\n",
       "    <tr>\n",
       "      <th>2018-03-29</th>\n",
       "      <td>6.446252</td>\n",
       "      <td>5315.264233</td>\n",
       "      <td>32.159252</td>\n",
       "      <td>5320.078248</td>\n",
       "      <td>-61.581267</td>\n",
       "      <td>301.948479</td>\n",
       "      <td>0.007501</td>\n",
       "      <td>3</td>\n",
       "    </tr>\n",
       "    <tr>\n",
       "      <th>2018-03-30</th>\n",
       "      <td>6.371922</td>\n",
       "      <td>5302.138685</td>\n",
       "      <td>32.250079</td>\n",
       "      <td>5306.889038</td>\n",
       "      <td>-62.115586</td>\n",
       "      <td>300.407153</td>\n",
       "      <td>0.007522</td>\n",
       "      <td>4</td>\n",
       "    </tr>\n",
       "    <tr>\n",
       "      <th>2018-04-02</th>\n",
       "      <td>6.105670</td>\n",
       "      <td>5264.867397</td>\n",
       "      <td>32.474872</td>\n",
       "      <td>5269.583891</td>\n",
       "      <td>-61.678814</td>\n",
       "      <td>300.478393</td>\n",
       "      <td>0.007468</td>\n",
       "      <td>5</td>\n",
       "    </tr>\n",
       "  </tbody>\n",
       "</table>\n",
       "</div>"
      ],
      "text/plain": [
       "               delta  forwardValue      gamma    spotValue      theta  \\\n",
       "date                                                                    \n",
       "2018-03-26  7.062619   5448.318283  31.352756  5453.276192 -63.085536   \n",
       "2018-03-27  7.025587   5386.919462  31.742713  5391.818779 -62.400120   \n",
       "2018-03-28  5.986941   5446.944074  31.371526  5451.896607 -63.104749   \n",
       "2018-03-29  6.446252   5315.264233  32.159252  5320.078248 -61.581267   \n",
       "2018-03-30  6.371922   5302.138685  32.250079  5306.889038 -62.115586   \n",
       "2018-04-02  6.105670   5264.867397  32.474872  5269.583891 -61.678814   \n",
       "\n",
       "                  vega  volNormal  tag  \n",
       "date                                    \n",
       "2018-03-26  301.541796   0.007693    0  \n",
       "2018-03-27  301.768497   0.007604    1  \n",
       "2018-03-28  302.044197   0.007684    2  \n",
       "2018-03-29  301.948479   0.007501    3  \n",
       "2018-03-30  300.407153   0.007522    4  \n",
       "2018-04-02  300.478393   0.007468    5  "
      ]
     },
     "execution_count": 13,
     "metadata": {},
     "output_type": "execute_result"
    }
   ],
   "source": [
    "res1.df_res"
   ]
  },
  {
   "cell_type": "markdown",
   "metadata": {
    "extensions": {
     "jupyter_dashboards": {
      "version": 1,
      "views": {
       "grid_default": {
        "col": 8,
        "height": 4,
        "hidden": false,
        "row": 41,
        "width": 4
       },
       "report_default": {
        "hidden": false
       }
      }
     }
    }
   },
   "source": [
    "## 8 - Example #4\n",
    "### Risk-reversal (EUR 3M10Y 25 delta risk reversal)"
   ]
  },
  {
   "cell_type": "code",
   "execution_count": 14,
   "metadata": {
    "extensions": {
     "jupyter_dashboards": {
      "version": 1,
      "views": {
       "grid_default": {
        "col": 0,
        "height": 13,
        "hidden": false,
        "row": 47,
        "width": 4
       },
       "report_default": {
        "hidden": false
       }
      }
     }
    }
   },
   "outputs": [
    {
     "data": {
      "text/markdown": [
       "**<span style=\"color:red;\">WARNING</span> -**improper combinaison of parameters resulting in an unclear strategy, by default missing parameters will be filled by repetition"
      ],
      "text/plain": [
       "<IPython.core.display.Markdown object>"
      ]
     },
     "metadata": {},
     "output_type": "display_data"
    },
    {
     "data": {
      "text/markdown": [
       "**<span style=\"color:black;\">INFO</span> -** Your request contains 2 prices over 6 dates i.e. total 12 prices."
      ],
      "text/plain": [
       "<IPython.core.display.Markdown object>"
      ]
     },
     "metadata": {},
     "output_type": "display_data"
    }
   ],
   "source": [
    "# delta 25 on both side\n",
    "ep = ROTB.endpoint.v1_compute_strategy_prices\n",
    "rq = ep.request()\n",
    "start=dt.date.today()-dt.timedelta(days=10)\n",
    "end=dt.date.today()-dt.timedelta(days=1)\n",
    "rq.targetCurrency='EUR'\n",
    "rq.errorMode = 'Full'\n",
    "rq.startDate = start.strftime('%Y-%m-%d')\n",
    "rq.endDate = end.strftime('%Y-%m-%d')\n",
    "\n",
    "rq.weighting = 'None'\n",
    "\n",
    "rq.curve = 'EUR EURIBOR 6M' \n",
    "rq.expiry = '3M'\n",
    "rq.tenor = '10Y'\n",
    "rq.strike= 'd25%'\n",
    "rq.type = 'payer,receiver'\n",
    "rq.settlement = 'cash'\n",
    "rq.pricingStrategy = 'GaussShiftedGauss'\n",
    "rq.nominal = int(1e6) \n",
    "rq.strategyWeight = '1,-1'\n",
    "\n",
    "rq.expand()"
   ]
  },
  {
   "cell_type": "code",
   "execution_count": 15,
   "metadata": {},
   "outputs": [
    {
     "name": "stdout",
     "output_type": "stream",
     "text": [
      "calling API...\n",
      "chunk 1/1 done in 0.96 s\n"
     ]
    }
   ],
   "source": [
    "res1 = rq.call_api(a)"
   ]
  },
  {
   "cell_type": "code",
   "execution_count": 16,
   "metadata": {},
   "outputs": [
    {
     "data": {
      "text/html": [
       "<div>\n",
       "<style scoped>\n",
       "    .dataframe tbody tr th:only-of-type {\n",
       "        vertical-align: middle;\n",
       "    }\n",
       "\n",
       "    .dataframe tbody tr th {\n",
       "        vertical-align: top;\n",
       "    }\n",
       "\n",
       "    .dataframe thead th {\n",
       "        text-align: right;\n",
       "    }\n",
       "</style>\n",
       "<table border=\"1\" class=\"dataframe\">\n",
       "  <thead>\n",
       "    <tr style=\"text-align: right;\">\n",
       "      <th></th>\n",
       "      <th>delta</th>\n",
       "      <th>forwardValue</th>\n",
       "      <th>gamma</th>\n",
       "      <th>spotValue</th>\n",
       "      <th>theta</th>\n",
       "      <th>vega</th>\n",
       "      <th>volNormal</th>\n",
       "      <th>tag</th>\n",
       "    </tr>\n",
       "    <tr>\n",
       "      <th>date</th>\n",
       "      <th></th>\n",
       "      <th></th>\n",
       "      <th></th>\n",
       "      <th></th>\n",
       "      <th></th>\n",
       "      <th></th>\n",
       "      <th></th>\n",
       "      <th></th>\n",
       "    </tr>\n",
       "  </thead>\n",
       "  <tbody>\n",
       "    <tr>\n",
       "      <th>2018-03-26</th>\n",
       "      <td>472.458418</td>\n",
       "      <td>616.334170</td>\n",
       "      <td>-2.688553</td>\n",
       "      <td>616.895027</td>\n",
       "      <td>-6.402118</td>\n",
       "      <td>2.392811</td>\n",
       "      <td>0.000720</td>\n",
       "      <td>0</td>\n",
       "    </tr>\n",
       "    <tr>\n",
       "      <th>2018-03-27</th>\n",
       "      <td>472.701439</td>\n",
       "      <td>606.888575</td>\n",
       "      <td>-2.712155</td>\n",
       "      <td>607.440530</td>\n",
       "      <td>-6.307978</td>\n",
       "      <td>2.381662</td>\n",
       "      <td>0.000709</td>\n",
       "      <td>1</td>\n",
       "    </tr>\n",
       "    <tr>\n",
       "      <th>2018-03-28</th>\n",
       "      <td>473.176806</td>\n",
       "      <td>524.453627</td>\n",
       "      <td>-2.291753</td>\n",
       "      <td>524.930477</td>\n",
       "      <td>-5.452357</td>\n",
       "      <td>2.028992</td>\n",
       "      <td>0.000613</td>\n",
       "      <td>2</td>\n",
       "    </tr>\n",
       "    <tr>\n",
       "      <th>2018-03-29</th>\n",
       "      <td>472.980429</td>\n",
       "      <td>550.203349</td>\n",
       "      <td>-2.525037</td>\n",
       "      <td>550.701666</td>\n",
       "      <td>-5.719950</td>\n",
       "      <td>2.185235</td>\n",
       "      <td>0.000643</td>\n",
       "      <td>3</td>\n",
       "    </tr>\n",
       "    <tr>\n",
       "      <th>2018-03-30</th>\n",
       "      <td>473.096350</td>\n",
       "      <td>542.706760</td>\n",
       "      <td>-2.504163</td>\n",
       "      <td>543.192989</td>\n",
       "      <td>-5.705406</td>\n",
       "      <td>2.148801</td>\n",
       "      <td>0.000638</td>\n",
       "      <td>4</td>\n",
       "    </tr>\n",
       "    <tr>\n",
       "      <th>2018-04-02</th>\n",
       "      <td>473.230139</td>\n",
       "      <td>516.646661</td>\n",
       "      <td>-2.417651</td>\n",
       "      <td>517.109496</td>\n",
       "      <td>-5.431407</td>\n",
       "      <td>2.058753</td>\n",
       "      <td>0.000607</td>\n",
       "      <td>5</td>\n",
       "    </tr>\n",
       "  </tbody>\n",
       "</table>\n",
       "</div>"
      ],
      "text/plain": [
       "                 delta  forwardValue     gamma   spotValue     theta  \\\n",
       "date                                                                   \n",
       "2018-03-26  472.458418    616.334170 -2.688553  616.895027 -6.402118   \n",
       "2018-03-27  472.701439    606.888575 -2.712155  607.440530 -6.307978   \n",
       "2018-03-28  473.176806    524.453627 -2.291753  524.930477 -5.452357   \n",
       "2018-03-29  472.980429    550.203349 -2.525037  550.701666 -5.719950   \n",
       "2018-03-30  473.096350    542.706760 -2.504163  543.192989 -5.705406   \n",
       "2018-04-02  473.230139    516.646661 -2.417651  517.109496 -5.431407   \n",
       "\n",
       "                vega  volNormal  tag  \n",
       "date                                  \n",
       "2018-03-26  2.392811   0.000720    0  \n",
       "2018-03-27  2.381662   0.000709    1  \n",
       "2018-03-28  2.028992   0.000613    2  \n",
       "2018-03-29  2.185235   0.000643    3  \n",
       "2018-03-30  2.148801   0.000638    4  \n",
       "2018-04-02  2.058753   0.000607    5  "
      ]
     },
     "execution_count": 16,
     "metadata": {},
     "output_type": "execute_result"
    }
   ],
   "source": [
    "res1.df_res"
   ]
  },
  {
   "cell_type": "markdown",
   "metadata": {
    "extensions": {
     "jupyter_dashboards": {
      "version": 1,
      "views": {
       "grid_default": {
        "col": 8,
        "height": 4,
        "hidden": false,
        "row": 45,
        "width": 4
       },
       "report_default": {
        "hidden": false
       }
      }
     }
    }
   },
   "source": [
    "## 9 - Example #5\n",
    "### Triangle (EUR 1y10y 1y30y 11y20y ATMF straddle triangle)"
   ]
  },
  {
   "cell_type": "code",
   "execution_count": 17,
   "metadata": {
    "extensions": {
     "jupyter_dashboards": {
      "version": 1,
      "views": {
       "grid_default": {
        "col": 0,
        "height": 55,
        "hidden": false,
        "row": 84,
        "width": 6
       },
       "report_default": {
        "hidden": false
       }
      }
     }
    },
    "scrolled": false
   },
   "outputs": [
    {
     "data": {
      "text/markdown": [
       "**<span style=\"color:red;\">WARNING</span> -**improper combinaison of parameters resulting in an unclear strategy, by default missing parameters will be filled by repetition"
      ],
      "text/plain": [
       "<IPython.core.display.Markdown object>"
      ]
     },
     "metadata": {},
     "output_type": "display_data"
    },
    {
     "data": {
      "text/markdown": [
       "**<span style=\"color:black;\">INFO</span> -** Your request contains 6 prices over 6 dates i.e. total 36 prices."
      ],
      "text/plain": [
       "<IPython.core.display.Markdown object>"
      ]
     },
     "metadata": {},
     "output_type": "display_data"
    }
   ],
   "source": [
    "# delta 25 on both side\n",
    "ep = ROTB.endpoint.v1_compute_strategy_prices\n",
    "rq = ep.request()\n",
    "start=dt.date.today()-dt.timedelta(days=10)\n",
    "end=dt.date.today()-dt.timedelta(days=1)\n",
    "rq.targetCurrency='EUR'\n",
    "rq.errorMode = 'Full'\n",
    "rq.startDate = start.strftime('%Y-%m-%d')\n",
    "rq.endDate = end.strftime('%Y-%m-%d')\n",
    "\n",
    "rq.weighting = 'None'\n",
    "\n",
    "rq.curve = 'EUR EURIBOR 6M' \n",
    "rq.expiry = '1Y, 1Y,1Y,1Y,11Y,11Y'\n",
    "rq.tenor = '10Y,10Y,30Y,30Y,20Y,20Y'\n",
    "rq.strike= '@0bp'\n",
    "rq.type = 'payer,receiver,payer,receiver,payer,receiver'\n",
    "rq.settlement = 'cash'\n",
    "rq.pricingStrategy = 'Auto'\n",
    "rq.nominal = int(1e6/2) \n",
    "rq.strategyWeight = '1,1,-1,-1,1,1'\n",
    "\n",
    "rq.expand()"
   ]
  },
  {
   "cell_type": "code",
   "execution_count": 18,
   "metadata": {
    "extensions": {
     "jupyter_dashboards": {
      "version": 1,
      "views": {
       "grid_default": {
        "hidden": true
       },
       "report_default": {
        "hidden": true
       }
      }
     }
    }
   },
   "outputs": [
    {
     "name": "stdout",
     "output_type": "stream",
     "text": [
      "calling API...\n",
      "chunk 1/1 done in 1.18 s\n"
     ]
    },
    {
     "data": {
      "text/html": [
       "<div>\n",
       "<style scoped>\n",
       "    .dataframe tbody tr th:only-of-type {\n",
       "        vertical-align: middle;\n",
       "    }\n",
       "\n",
       "    .dataframe tbody tr th {\n",
       "        vertical-align: top;\n",
       "    }\n",
       "\n",
       "    .dataframe thead th {\n",
       "        text-align: right;\n",
       "    }\n",
       "</style>\n",
       "<table border=\"1\" class=\"dataframe\">\n",
       "  <thead>\n",
       "    <tr style=\"text-align: right;\">\n",
       "      <th></th>\n",
       "      <th>delta</th>\n",
       "      <th>forwardValue</th>\n",
       "      <th>gamma</th>\n",
       "      <th>spotValue</th>\n",
       "      <th>theta</th>\n",
       "      <th>vega</th>\n",
       "      <th>volNormal</th>\n",
       "      <th>tag</th>\n",
       "    </tr>\n",
       "    <tr>\n",
       "      <th>date</th>\n",
       "      <th></th>\n",
       "      <th></th>\n",
       "      <th></th>\n",
       "      <th></th>\n",
       "      <th></th>\n",
       "      <th></th>\n",
       "      <th></th>\n",
       "      <th></th>\n",
       "    </tr>\n",
       "  </thead>\n",
       "  <tbody>\n",
       "    <tr>\n",
       "      <th>2018-03-26</th>\n",
       "      <td>3.159533e-08</td>\n",
       "      <td>93253.035405</td>\n",
       "      <td>-9.531536</td>\n",
       "      <td>81933.167901</td>\n",
       "      <td>21.940659</td>\n",
       "      <td>1420.892665</td>\n",
       "      <td>0.011027</td>\n",
       "      <td>0</td>\n",
       "    </tr>\n",
       "    <tr>\n",
       "      <th>2018-03-27</th>\n",
       "      <td>3.177894e-08</td>\n",
       "      <td>95593.919813</td>\n",
       "      <td>-9.755294</td>\n",
       "      <td>84271.110695</td>\n",
       "      <td>21.428260</td>\n",
       "      <td>1426.030184</td>\n",
       "      <td>0.011185</td>\n",
       "      <td>1</td>\n",
       "    </tr>\n",
       "    <tr>\n",
       "      <th>2018-03-28</th>\n",
       "      <td>3.205065e-08</td>\n",
       "      <td>95899.288840</td>\n",
       "      <td>-9.653773</td>\n",
       "      <td>84690.013171</td>\n",
       "      <td>21.796222</td>\n",
       "      <td>1429.929603</td>\n",
       "      <td>0.011207</td>\n",
       "      <td>2</td>\n",
       "    </tr>\n",
       "    <tr>\n",
       "      <th>2018-03-29</th>\n",
       "      <td>3.271458e-08</td>\n",
       "      <td>91691.408406</td>\n",
       "      <td>-9.529598</td>\n",
       "      <td>80862.789027</td>\n",
       "      <td>22.077030</td>\n",
       "      <td>1426.627475</td>\n",
       "      <td>0.010838</td>\n",
       "      <td>3</td>\n",
       "    </tr>\n",
       "    <tr>\n",
       "      <th>2018-03-30</th>\n",
       "      <td>3.294213e-08</td>\n",
       "      <td>92230.924782</td>\n",
       "      <td>-9.548051</td>\n",
       "      <td>81443.005734</td>\n",
       "      <td>22.122381</td>\n",
       "      <td>1428.846852</td>\n",
       "      <td>0.010921</td>\n",
       "      <td>4</td>\n",
       "    </tr>\n",
       "    <tr>\n",
       "      <th>2018-04-02</th>\n",
       "      <td>3.300096e-08</td>\n",
       "      <td>92335.165025</td>\n",
       "      <td>-9.512582</td>\n",
       "      <td>81529.106662</td>\n",
       "      <td>22.122339</td>\n",
       "      <td>1428.145799</td>\n",
       "      <td>0.010879</td>\n",
       "      <td>5</td>\n",
       "    </tr>\n",
       "  </tbody>\n",
       "</table>\n",
       "</div>"
      ],
      "text/plain": [
       "                   delta  forwardValue     gamma     spotValue      theta  \\\n",
       "date                                                                        \n",
       "2018-03-26  3.159533e-08  93253.035405 -9.531536  81933.167901  21.940659   \n",
       "2018-03-27  3.177894e-08  95593.919813 -9.755294  84271.110695  21.428260   \n",
       "2018-03-28  3.205065e-08  95899.288840 -9.653773  84690.013171  21.796222   \n",
       "2018-03-29  3.271458e-08  91691.408406 -9.529598  80862.789027  22.077030   \n",
       "2018-03-30  3.294213e-08  92230.924782 -9.548051  81443.005734  22.122381   \n",
       "2018-04-02  3.300096e-08  92335.165025 -9.512582  81529.106662  22.122339   \n",
       "\n",
       "                   vega  volNormal  tag  \n",
       "date                                     \n",
       "2018-03-26  1420.892665   0.011027    0  \n",
       "2018-03-27  1426.030184   0.011185    1  \n",
       "2018-03-28  1429.929603   0.011207    2  \n",
       "2018-03-29  1426.627475   0.010838    3  \n",
       "2018-03-30  1428.846852   0.010921    4  \n",
       "2018-04-02  1428.145799   0.010879    5  "
      ]
     },
     "metadata": {},
     "output_type": "display_data"
    }
   ],
   "source": [
    "res1 = rq.call_api(a)\n",
    "display(res1.df_res)"
   ]
  },
  {
   "cell_type": "markdown",
   "metadata": {
    "extensions": {
     "jupyter_dashboards": {
      "version": 1,
      "views": {
       "grid_default": {
        "col": 6,
        "height": 15,
        "hidden": false,
        "row": 77,
        "width": 5
       },
       "report_default": {
        "hidden": false
       }
      }
     }
    }
   },
   "source": [
    "# B - Absolute parameters (backtests)"
   ]
  },
  {
   "cell_type": "markdown",
   "metadata": {
    "extensions": {
     "jupyter_dashboards": {
      "version": 1,
      "views": {
       "grid_default": {
        "col": 8,
        "height": 4,
        "hidden": false,
        "row": 49,
        "width": 4
       },
       "report_default": {
        "hidden": false
       }
      }
     }
    }
   },
   "source": [
    "## 1 - Build Request\n",
    "### Example: 10Y JPY 3M6M ATMF reverse receiver calendar spread)"
   ]
  },
  {
   "cell_type": "code",
   "execution_count": 19,
   "metadata": {
    "extensions": {
     "jupyter_dashboards": {
      "version": 1,
      "views": {
       "grid_default": {
        "col": 0,
        "height": 16,
        "hidden": false,
        "row": 139,
        "width": 9
       },
       "report_default": {
        "hidden": false
       }
      }
     }
    }
   },
   "outputs": [
    {
     "data": {
      "text/markdown": [
       "**<span style=\"color:red;\">WARNING</span> -**improper combinaison of parameters resulting in an unclear strategy, by default missing parameters will be filled by repetition"
      ],
      "text/plain": [
       "<IPython.core.display.Markdown object>"
      ]
     },
     "metadata": {},
     "output_type": "display_data"
    },
    {
     "data": {
      "text/markdown": [
       "**<span style=\"color:black;\">INFO</span> -** Your request contains 2 prices over 6 dates i.e. total 12 prices."
      ],
      "text/plain": [
       "<IPython.core.display.Markdown object>"
      ]
     },
     "metadata": {},
     "output_type": "display_data"
    }
   ],
   "source": [
    "from dateutil.relativedelta import relativedelta\n",
    "\n",
    "ep = ROTB.endpoint.v1_compute_strategy_prices\n",
    "rq = ep.request()\n",
    "start=dt.date.today()-dt.timedelta(days=10)\n",
    "end=dt.date.today()-dt.timedelta(days=1)\n",
    "expiry_1=start+relativedelta(months=+3) # first expiry date\n",
    "expiry_2=start+relativedelta(months=+6) # second expiry date\n",
    "tenor_1=expiry_1+relativedelta(years=+10) # first tenor date\n",
    "tenor_2=expiry_2+relativedelta(years=+10)# second tenor date\n",
    "\n",
    "expiry_1=expiry_1.strftime('%Y-%m-%d')\n",
    "expiry_2=expiry_2.strftime('%Y-%m-%d')\n",
    "tenor_1=tenor_1.strftime('%Y-%m-%d')\n",
    "tenor_2=tenor_2.strftime('%Y-%m-%d')\n",
    "\n",
    "rq.errorMode = 'Full'\n",
    "rq.startDate = start.strftime('%Y-%m-%d')\n",
    "rq.endDate = end.strftime('%Y-%m-%d')\n",
    "\n",
    "rq.targetCurrency='EUR'\n",
    "rq.weighting = 'DV01'\n",
    "\n",
    "rq.curve = 'JPY LIBOR 6M' \n",
    "rq.expiry = [expiry_1,expiry_2]\n",
    "rq.tenor = [tenor_1,tenor_2]\n",
    "rq.strike= '0.3254%, 0.345%'\n",
    "rq.type = 'receiver'\n",
    "rq.settlement = 'cash'\n",
    "rq.pricingStrategy = 'Auto'\n",
    "rq.nominal = int(1e6)\n",
    "rq.strategyWeight = '1,-1'\n",
    "\n",
    "rq.expand()"
   ]
  },
  {
   "cell_type": "code",
   "execution_count": 20,
   "metadata": {
    "extensions": {
     "jupyter_dashboards": {
      "version": 1,
      "views": {
       "grid_default": {
        "col": 8,
        "height": 4,
        "hidden": false,
        "row": 57,
        "width": 4
       },
       "report_default": {
        "hidden": false
       }
      }
     }
    }
   },
   "outputs": [
    {
     "name": "stdout",
     "output_type": "stream",
     "text": [
      "calling API...\n",
      "chunk 1/1 done in 1.00 s\n"
     ]
    },
    {
     "data": {
      "text/html": [
       "<div>\n",
       "<style scoped>\n",
       "    .dataframe tbody tr th:only-of-type {\n",
       "        vertical-align: middle;\n",
       "    }\n",
       "\n",
       "    .dataframe tbody tr th {\n",
       "        vertical-align: top;\n",
       "    }\n",
       "\n",
       "    .dataframe thead th {\n",
       "        text-align: right;\n",
       "    }\n",
       "</style>\n",
       "<table border=\"1\" class=\"dataframe\">\n",
       "  <thead>\n",
       "    <tr style=\"text-align: right;\">\n",
       "      <th></th>\n",
       "      <th>delta</th>\n",
       "      <th>forwardValue</th>\n",
       "      <th>gamma</th>\n",
       "      <th>spotValue</th>\n",
       "      <th>theta</th>\n",
       "      <th>vega</th>\n",
       "      <th>volNormal</th>\n",
       "      <th>tag</th>\n",
       "    </tr>\n",
       "    <tr>\n",
       "      <th>date</th>\n",
       "      <th></th>\n",
       "      <th></th>\n",
       "      <th></th>\n",
       "      <th></th>\n",
       "      <th></th>\n",
       "      <th></th>\n",
       "      <th></th>\n",
       "      <th></th>\n",
       "    </tr>\n",
       "  </thead>\n",
       "  <tbody>\n",
       "    <tr>\n",
       "      <th>2018-03-26</th>\n",
       "      <td>-46.781315</td>\n",
       "      <td>-1801.610454</td>\n",
       "      <td>16.167383</td>\n",
       "      <td>-1802.474940</td>\n",
       "      <td>-2.726120</td>\n",
       "      <td>-86.103384</td>\n",
       "      <td>-0.000184</td>\n",
       "      <td>0</td>\n",
       "    </tr>\n",
       "    <tr>\n",
       "      <th>2018-03-27</th>\n",
       "      <td>-25.076551</td>\n",
       "      <td>-1667.225094</td>\n",
       "      <td>17.725371</td>\n",
       "      <td>-1667.972433</td>\n",
       "      <td>-3.526498</td>\n",
       "      <td>-82.896925</td>\n",
       "      <td>-0.000139</td>\n",
       "      <td>1</td>\n",
       "    </tr>\n",
       "    <tr>\n",
       "      <th>2018-03-28</th>\n",
       "      <td>-22.678780</td>\n",
       "      <td>-1626.265024</td>\n",
       "      <td>17.421837</td>\n",
       "      <td>-1627.010560</td>\n",
       "      <td>-3.817712</td>\n",
       "      <td>-82.951130</td>\n",
       "      <td>-0.000119</td>\n",
       "      <td>2</td>\n",
       "    </tr>\n",
       "    <tr>\n",
       "      <th>2018-03-29</th>\n",
       "      <td>-17.666706</td>\n",
       "      <td>-1698.158194</td>\n",
       "      <td>20.077581</td>\n",
       "      <td>-1698.879216</td>\n",
       "      <td>-3.348036</td>\n",
       "      <td>-82.815449</td>\n",
       "      <td>-0.000168</td>\n",
       "      <td>3</td>\n",
       "    </tr>\n",
       "    <tr>\n",
       "      <th>2018-03-30</th>\n",
       "      <td>-6.916818</td>\n",
       "      <td>-1672.223129</td>\n",
       "      <td>21.559867</td>\n",
       "      <td>-1672.897671</td>\n",
       "      <td>-3.302395</td>\n",
       "      <td>-82.553050</td>\n",
       "      <td>-0.000169</td>\n",
       "      <td>4</td>\n",
       "    </tr>\n",
       "    <tr>\n",
       "      <th>2018-04-02</th>\n",
       "      <td>-9.199553</td>\n",
       "      <td>-1663.061128</td>\n",
       "      <td>22.067703</td>\n",
       "      <td>-1663.731070</td>\n",
       "      <td>-3.509944</td>\n",
       "      <td>-83.642693</td>\n",
       "      <td>-0.000162</td>\n",
       "      <td>5</td>\n",
       "    </tr>\n",
       "  </tbody>\n",
       "</table>\n",
       "</div>"
      ],
      "text/plain": [
       "                delta  forwardValue      gamma    spotValue     theta  \\\n",
       "date                                                                    \n",
       "2018-03-26 -46.781315  -1801.610454  16.167383 -1802.474940 -2.726120   \n",
       "2018-03-27 -25.076551  -1667.225094  17.725371 -1667.972433 -3.526498   \n",
       "2018-03-28 -22.678780  -1626.265024  17.421837 -1627.010560 -3.817712   \n",
       "2018-03-29 -17.666706  -1698.158194  20.077581 -1698.879216 -3.348036   \n",
       "2018-03-30  -6.916818  -1672.223129  21.559867 -1672.897671 -3.302395   \n",
       "2018-04-02  -9.199553  -1663.061128  22.067703 -1663.731070 -3.509944   \n",
       "\n",
       "                 vega  volNormal  tag  \n",
       "date                                   \n",
       "2018-03-26 -86.103384  -0.000184    0  \n",
       "2018-03-27 -82.896925  -0.000139    1  \n",
       "2018-03-28 -82.951130  -0.000119    2  \n",
       "2018-03-29 -82.815449  -0.000168    3  \n",
       "2018-03-30 -82.553050  -0.000169    4  \n",
       "2018-04-02 -83.642693  -0.000162    5  "
      ]
     },
     "execution_count": 20,
     "metadata": {},
     "output_type": "execute_result"
    }
   ],
   "source": [
    "res1 = rq.call_api(a)\n",
    "res1.df_res"
   ]
  },
  {
   "cell_type": "markdown",
   "metadata": {
    "extensions": {
     "jupyter_dashboards": {
      "version": 1,
      "views": {
       "grid_default": {
        "col": 0,
        "height": 4,
        "hidden": false,
        "row": 64,
        "width": 4
       },
       "report_default": {
        "hidden": false
       }
      }
     }
    }
   },
   "source": [
    "## 2 - Example #2\n",
    "### Straddle (ex: EUR 3M10Y ATMF straddle)"
   ]
  },
  {
   "cell_type": "code",
   "execution_count": 21,
   "metadata": {
    "extensions": {
     "jupyter_dashboards": {
      "version": 1,
      "views": {
       "grid_default": {
        "col": 0,
        "height": 17,
        "hidden": false,
        "row": 155,
        "width": 9
       },
       "report_default": {
        "hidden": false
       }
      }
     }
    }
   },
   "outputs": [
    {
     "data": {
      "text/markdown": [
       "**<span style=\"color:red;\">WARNING</span> -**improper combinaison of parameters resulting in an unclear strategy, by default missing parameters will be filled by repetition"
      ],
      "text/plain": [
       "<IPython.core.display.Markdown object>"
      ]
     },
     "metadata": {},
     "output_type": "display_data"
    },
    {
     "data": {
      "text/markdown": [
       "**<span style=\"color:black;\">INFO</span> -** Your request contains 2 prices over 6 dates i.e. total 12 prices."
      ],
      "text/plain": [
       "<IPython.core.display.Markdown object>"
      ]
     },
     "metadata": {},
     "output_type": "display_data"
    }
   ],
   "source": [
    "ep = ROTB.endpoint.v1_compute_strategy_prices\n",
    "rq = ep.request()\n",
    "start=dt.date.today()-dt.timedelta(days=10)\n",
    "end=dt.date.today()-dt.timedelta(days=1)\n",
    "expiry=start+relativedelta(months=+3)\n",
    "tenor=expiry+relativedelta(years=10)\n",
    "expiry=expiry.strftime('%Y-%m-%d')\n",
    "tenor=tenor.strftime('%Y-%m-%d')\n",
    "\n",
    "rq.targetCurrency='EUR' # define the price currency \n",
    "rq.errorMode = 'Full'\n",
    "rq.startDate = start.strftime('%Y-%m-%d')\n",
    "rq.endDate = end.strftime('%Y-%m-%d')\n",
    "\n",
    "rq.weighting = 'DV01'\n",
    "\n",
    "rq.curve = 'EUR EURIBOR 6M' \n",
    "rq.expiry = expiry\n",
    "rq.tenor = tenor\n",
    "rq.strike= '1.1232%'\n",
    "rq.type = 'payer,receiver'\n",
    "rq.settlement = 'cash'\n",
    "rq.pricingStrategy = 'Auto'\n",
    "rq.nominal = int(1e6)\n",
    "rq.strategyWeight = '1'\n",
    "\n",
    "rq.expand()"
   ]
  },
  {
   "cell_type": "code",
   "execution_count": 22,
   "metadata": {
    "extensions": {
     "jupyter_dashboards": {
      "version": 1,
      "views": {
       "grid_default": {
        "col": 6,
        "height": 16,
        "hidden": false,
        "row": 92,
        "width": 5
       },
       "report_default": {
        "hidden": false
       }
      }
     }
    }
   },
   "outputs": [
    {
     "name": "stdout",
     "output_type": "stream",
     "text": [
      "calling API...\n",
      "chunk 1/1 done in 0.80 s\n"
     ]
    },
    {
     "data": {
      "text/html": [
       "<div>\n",
       "<style scoped>\n",
       "    .dataframe tbody tr th:only-of-type {\n",
       "        vertical-align: middle;\n",
       "    }\n",
       "\n",
       "    .dataframe tbody tr th {\n",
       "        vertical-align: top;\n",
       "    }\n",
       "\n",
       "    .dataframe thead th {\n",
       "        text-align: right;\n",
       "    }\n",
       "</style>\n",
       "<table border=\"1\" class=\"dataframe\">\n",
       "  <thead>\n",
       "    <tr style=\"text-align: right;\">\n",
       "      <th></th>\n",
       "      <th>delta</th>\n",
       "      <th>forwardValue</th>\n",
       "      <th>gamma</th>\n",
       "      <th>spotValue</th>\n",
       "      <th>theta</th>\n",
       "      <th>vega</th>\n",
       "      <th>volNormal</th>\n",
       "      <th>tag</th>\n",
       "    </tr>\n",
       "    <tr>\n",
       "      <th>date</th>\n",
       "      <th></th>\n",
       "      <th></th>\n",
       "      <th></th>\n",
       "      <th></th>\n",
       "      <th></th>\n",
       "      <th></th>\n",
       "      <th></th>\n",
       "      <th></th>\n",
       "    </tr>\n",
       "  </thead>\n",
       "  <tbody>\n",
       "    <tr>\n",
       "      <th>2018-03-26</th>\n",
       "      <td>-261.373445</td>\n",
       "      <td>15893.794966</td>\n",
       "      <td>35.693255</td>\n",
       "      <td>15908.101562</td>\n",
       "      <td>-77.321991</td>\n",
       "      <td>353.878801</td>\n",
       "      <td>0.007953</td>\n",
       "      <td>0</td>\n",
       "    </tr>\n",
       "    <tr>\n",
       "      <th>2018-03-27</th>\n",
       "      <td>-329.739528</td>\n",
       "      <td>16492.747985</td>\n",
       "      <td>34.333511</td>\n",
       "      <td>16507.423339</td>\n",
       "      <td>-75.277644</td>\n",
       "      <td>338.690640</td>\n",
       "      <td>0.008001</td>\n",
       "      <td>1</td>\n",
       "    </tr>\n",
       "    <tr>\n",
       "      <th>2018-03-28</th>\n",
       "      <td>-378.826624</td>\n",
       "      <td>17136.532161</td>\n",
       "      <td>32.933802</td>\n",
       "      <td>17151.609569</td>\n",
       "      <td>-74.038506</td>\n",
       "      <td>325.318179</td>\n",
       "      <td>0.008102</td>\n",
       "      <td>2</td>\n",
       "    </tr>\n",
       "    <tr>\n",
       "      <th>2018-03-29</th>\n",
       "      <td>-379.851921</td>\n",
       "      <td>16712.806550</td>\n",
       "      <td>33.755316</td>\n",
       "      <td>16727.290315</td>\n",
       "      <td>-72.911841</td>\n",
       "      <td>323.162799</td>\n",
       "      <td>0.007942</td>\n",
       "      <td>3</td>\n",
       "    </tr>\n",
       "    <tr>\n",
       "      <th>2018-03-30</th>\n",
       "      <td>-407.876423</td>\n",
       "      <td>17109.628544</td>\n",
       "      <td>32.872395</td>\n",
       "      <td>17124.289014</td>\n",
       "      <td>-72.332146</td>\n",
       "      <td>314.028574</td>\n",
       "      <td>0.008016</td>\n",
       "      <td>4</td>\n",
       "    </tr>\n",
       "    <tr>\n",
       "      <th>2018-04-02</th>\n",
       "      <td>-416.330989</td>\n",
       "      <td>16748.890782</td>\n",
       "      <td>33.530635</td>\n",
       "      <td>16762.749927</td>\n",
       "      <td>-72.327100</td>\n",
       "      <td>306.209925</td>\n",
       "      <td>0.007936</td>\n",
       "      <td>5</td>\n",
       "    </tr>\n",
       "  </tbody>\n",
       "</table>\n",
       "</div>"
      ],
      "text/plain": [
       "                 delta  forwardValue      gamma     spotValue      theta  \\\n",
       "date                                                                       \n",
       "2018-03-26 -261.373445  15893.794966  35.693255  15908.101562 -77.321991   \n",
       "2018-03-27 -329.739528  16492.747985  34.333511  16507.423339 -75.277644   \n",
       "2018-03-28 -378.826624  17136.532161  32.933802  17151.609569 -74.038506   \n",
       "2018-03-29 -379.851921  16712.806550  33.755316  16727.290315 -72.911841   \n",
       "2018-03-30 -407.876423  17109.628544  32.872395  17124.289014 -72.332146   \n",
       "2018-04-02 -416.330989  16748.890782  33.530635  16762.749927 -72.327100   \n",
       "\n",
       "                  vega  volNormal  tag  \n",
       "date                                    \n",
       "2018-03-26  353.878801   0.007953    0  \n",
       "2018-03-27  338.690640   0.008001    1  \n",
       "2018-03-28  325.318179   0.008102    2  \n",
       "2018-03-29  323.162799   0.007942    3  \n",
       "2018-03-30  314.028574   0.008016    4  \n",
       "2018-04-02  306.209925   0.007936    5  "
      ]
     },
     "execution_count": 22,
     "metadata": {},
     "output_type": "execute_result"
    }
   ],
   "source": [
    "res1 = rq.call_api(a)\n",
    "res1.df_res"
   ]
  },
  {
   "cell_type": "markdown",
   "metadata": {
    "extensions": {
     "jupyter_dashboards": {
      "version": 1,
      "views": {
       "grid_default": {
        "col": 0,
        "height": 4,
        "hidden": false,
        "row": 68,
        "width": 4
       },
       "report_default": {
        "hidden": false
       }
      }
     }
    }
   },
   "source": [
    "## 3 - Example #3\n",
    "### Strangle (ex:  EUR 3M10Y ATMF+/-25delta strangle)"
   ]
  },
  {
   "cell_type": "code",
   "execution_count": 23,
   "metadata": {
    "extensions": {
     "jupyter_dashboards": {
      "version": 1,
      "views": {
       "grid_default": {
        "col": 0,
        "height": 16,
        "hidden": false,
        "row": 172,
        "width": 12
       },
       "report_default": {
        "hidden": false
       }
      }
     }
    }
   },
   "outputs": [
    {
     "data": {
      "text/markdown": [
       "**<span style=\"color:red;\">WARNING</span> -**improper combinaison of parameters resulting in an unclear strategy, by default missing parameters will be filled by repetition"
      ],
      "text/plain": [
       "<IPython.core.display.Markdown object>"
      ]
     },
     "metadata": {},
     "output_type": "display_data"
    },
    {
     "data": {
      "text/markdown": [
       "**<span style=\"color:black;\">INFO</span> -** Your request contains 2 prices over 6 dates i.e. total 12 prices."
      ],
      "text/plain": [
       "<IPython.core.display.Markdown object>"
      ]
     },
     "metadata": {},
     "output_type": "display_data"
    }
   ],
   "source": [
    "# delta 25 on both side\n",
    "ep = ROTB.endpoint.v1_compute_strategy_prices\n",
    "rq = ep.request()\n",
    "start=dt.date.today()-dt.timedelta(days=10)\n",
    "end=dt.date.today()-dt.timedelta(days=1)\n",
    "expiry=start+relativedelta(months=+3)\n",
    "tenor=expiry+relativedelta(years=10)\n",
    "expiry=expiry.strftime('%Y-%m-%d')\n",
    "tenor=tenor.strftime('%Y-%m-%d')\n",
    "\n",
    "rq.targetCurrency='EUR'\n",
    "rq.errorMode = 'Full'\n",
    "rq.startDate = start.strftime('%Y-%m-%d')\n",
    "rq.endDate = end.strftime('%Y-%m-%d')\n",
    "\n",
    "rq.weighting = 'None'\n",
    "\n",
    "rq.curve = 'EUR EURIBOR 6M' \n",
    "rq.expiry = expiry\n",
    "rq.tenor = tenor\n",
    "rq.strike= '1.2746%,0.9903%'\n",
    "rq.type = 'payer,receiver'\n",
    "rq.settlement = 'cash'\n",
    "rq.pricingStrategy = 'GaussShiftedGauss'\n",
    "rq.nominal = int(1e6)\n",
    "rq.strategyWeight = '1'\n",
    "\n",
    "rq.expand()"
   ]
  },
  {
   "cell_type": "code",
   "execution_count": 24,
   "metadata": {
    "extensions": {
     "jupyter_dashboards": {
      "version": 1,
      "views": {
       "grid_default": {
        "col": 0,
        "height": 6,
        "hidden": false,
        "row": 72,
        "width": 4
       },
       "report_default": {
        "hidden": false
       }
      }
     }
    }
   },
   "outputs": [
    {
     "name": "stdout",
     "output_type": "stream",
     "text": [
      "calling API...\n",
      "chunk 1/1 done in 0.80 s\n"
     ]
    },
    {
     "data": {
      "text/html": [
       "<div>\n",
       "<style scoped>\n",
       "    .dataframe tbody tr th:only-of-type {\n",
       "        vertical-align: middle;\n",
       "    }\n",
       "\n",
       "    .dataframe tbody tr th {\n",
       "        vertical-align: top;\n",
       "    }\n",
       "\n",
       "    .dataframe thead th {\n",
       "        text-align: right;\n",
       "    }\n",
       "</style>\n",
       "<table border=\"1\" class=\"dataframe\">\n",
       "  <thead>\n",
       "    <tr style=\"text-align: right;\">\n",
       "      <th></th>\n",
       "      <th>delta</th>\n",
       "      <th>forwardValue</th>\n",
       "      <th>gamma</th>\n",
       "      <th>spotValue</th>\n",
       "      <th>theta</th>\n",
       "      <th>vega</th>\n",
       "      <th>volNormal</th>\n",
       "      <th>tag</th>\n",
       "    </tr>\n",
       "    <tr>\n",
       "      <th>date</th>\n",
       "      <th></th>\n",
       "      <th></th>\n",
       "      <th></th>\n",
       "      <th></th>\n",
       "      <th></th>\n",
       "      <th></th>\n",
       "      <th></th>\n",
       "      <th></th>\n",
       "    </tr>\n",
       "  </thead>\n",
       "  <tbody>\n",
       "    <tr>\n",
       "      <th>2018-03-26</th>\n",
       "      <td>-191.464836</td>\n",
       "      <td>6028.834349</td>\n",
       "      <td>30.054442</td>\n",
       "      <td>6034.261128</td>\n",
       "      <td>-63.576031</td>\n",
       "      <td>292.764359</td>\n",
       "      <td>0.008091</td>\n",
       "      <td>0</td>\n",
       "    </tr>\n",
       "    <tr>\n",
       "      <th>2018-03-27</th>\n",
       "      <td>-250.887152</td>\n",
       "      <td>6434.692638</td>\n",
       "      <td>29.858499</td>\n",
       "      <td>6440.418269</td>\n",
       "      <td>-62.722013</td>\n",
       "      <td>286.748477</td>\n",
       "      <td>0.008111</td>\n",
       "      <td>1</td>\n",
       "    </tr>\n",
       "    <tr>\n",
       "      <th>2018-03-28</th>\n",
       "      <td>-298.322677</td>\n",
       "      <td>6971.756114</td>\n",
       "      <td>29.123681</td>\n",
       "      <td>6977.890145</td>\n",
       "      <td>-62.709796</td>\n",
       "      <td>280.379624</td>\n",
       "      <td>0.008211</td>\n",
       "      <td>2</td>\n",
       "    </tr>\n",
       "    <tr>\n",
       "      <th>2018-03-29</th>\n",
       "      <td>-293.904974</td>\n",
       "      <td>6594.515650</td>\n",
       "      <td>29.789040</td>\n",
       "      <td>6600.230634</td>\n",
       "      <td>-61.197697</td>\n",
       "      <td>276.822259</td>\n",
       "      <td>0.008046</td>\n",
       "      <td>3</td>\n",
       "    </tr>\n",
       "    <tr>\n",
       "      <th>2018-03-30</th>\n",
       "      <td>-320.161724</td>\n",
       "      <td>6897.571908</td>\n",
       "      <td>29.447921</td>\n",
       "      <td>6903.482127</td>\n",
       "      <td>-61.280688</td>\n",
       "      <td>272.368842</td>\n",
       "      <td>0.008109</td>\n",
       "      <td>4</td>\n",
       "    </tr>\n",
       "    <tr>\n",
       "      <th>2018-04-02</th>\n",
       "      <td>-323.789629</td>\n",
       "      <td>6606.398137</td>\n",
       "      <td>29.867561</td>\n",
       "      <td>6611.864710</td>\n",
       "      <td>-60.881378</td>\n",
       "      <td>264.038696</td>\n",
       "      <td>0.008033</td>\n",
       "      <td>5</td>\n",
       "    </tr>\n",
       "  </tbody>\n",
       "</table>\n",
       "</div>"
      ],
      "text/plain": [
       "                 delta  forwardValue      gamma    spotValue      theta  \\\n",
       "date                                                                      \n",
       "2018-03-26 -191.464836   6028.834349  30.054442  6034.261128 -63.576031   \n",
       "2018-03-27 -250.887152   6434.692638  29.858499  6440.418269 -62.722013   \n",
       "2018-03-28 -298.322677   6971.756114  29.123681  6977.890145 -62.709796   \n",
       "2018-03-29 -293.904974   6594.515650  29.789040  6600.230634 -61.197697   \n",
       "2018-03-30 -320.161724   6897.571908  29.447921  6903.482127 -61.280688   \n",
       "2018-04-02 -323.789629   6606.398137  29.867561  6611.864710 -60.881378   \n",
       "\n",
       "                  vega  volNormal  tag  \n",
       "date                                    \n",
       "2018-03-26  292.764359   0.008091    0  \n",
       "2018-03-27  286.748477   0.008111    1  \n",
       "2018-03-28  280.379624   0.008211    2  \n",
       "2018-03-29  276.822259   0.008046    3  \n",
       "2018-03-30  272.368842   0.008109    4  \n",
       "2018-04-02  264.038696   0.008033    5  "
      ]
     },
     "execution_count": 24,
     "metadata": {},
     "output_type": "execute_result"
    }
   ],
   "source": [
    "res1 = rq.call_api(a)\n",
    "res1.df_res"
   ]
  },
  {
   "cell_type": "code",
   "execution_count": null,
   "metadata": {},
   "outputs": [],
   "source": []
  }
 ],
 "metadata": {
  "extensions": {
   "jupyter_dashboards": {
    "activeView": "grid_default",
    "version": 1,
    "views": {
     "grid_default": {
      "cellMargin": 10,
      "defaultCellHeight": 20,
      "maxColumns": 12,
      "name": "grid",
      "type": "grid"
     },
     "report_default": {
      "name": "report",
      "type": "report"
     }
    }
   }
  },
  "kernelspec": {
   "display_name": "Python 3",
   "language": "python",
   "name": "python3"
  },
  "language_info": {
   "codemirror_mode": {
    "name": "ipython",
    "version": 3
   },
   "file_extension": ".py",
   "mimetype": "text/x-python",
   "name": "python",
   "nbconvert_exporter": "python",
   "pygments_lexer": "ipython3",
   "version": "3.6.3"
  }
 },
 "nbformat": 4,
 "nbformat_minor": 2
}
