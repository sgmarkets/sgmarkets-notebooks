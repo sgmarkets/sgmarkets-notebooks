{
 "cells": [
  {
   "cell_type": "markdown",
   "metadata": {},
   "source": [
    "#  SGmarkets ROTB strategy endpoint"
   ]
  },
  {
   "cell_type": "markdown",
   "metadata": {},
   "source": [
    "**The [compute-strategy endpoint](https://analytics-api.sgmarkets.com/rotb/v1/swagger/ui/index#!/Swaption/Swaption_Strategy) enables to compute the historical performances of vol strategies and of its components.**  \n",
    "**The calculation can be performed using either relative (analytics) or absolute (backtests) parameters.**"
   ]
  },
  {
   "cell_type": "code",
   "execution_count": 1,
   "metadata": {},
   "outputs": [],
   "source": [
    "%load_ext autoreload\n",
    "%autoreload 2"
   ]
  },
  {
   "cell_type": "code",
   "execution_count": 2,
   "metadata": {},
   "outputs": [
    {
     "data": {
      "application/javascript": [
       "\n",
       "require([\"jquery\", \"https://code.highcharts.com/stock/highstock.js\", \"https://d3js.org/d3.v3.min.js\"], function() {\n",
       "    require([\"https://cdn.datatables.net/1.10.10/js/jquery.dataTables.min.js\", \"https://code.highcharts.com/stock/highcharts-more.js\", \"https://code.highcharts.com/modules/drilldown.js\", \"https://code.highcharts.com/modules/exporting.js\", \"https://code.highcharts.com/modules/heatmap.js\", \"https://code.highcharts.com/modules/treemap.js\", \"https://code.highcharts.com/modules/sunburst.js\", \"https://highcharts.github.io/export-csv/export-csv.js\"], function() {\n",
       "        console.log(\"The following js libs loaded:\");\n",
       "        console.log(\"First:\");\n",
       "        console.log(\"jquery\");console.log(\"https://code.highcharts.com/stock/highstock.js\");console.log(\"https://d3js.org/d3.v3.min.js\");\n",
       "        console.log(\"Then:\");\n",
       "        console.log(\"https://cdn.datatables.net/1.10.10/js/jquery.dataTables.min.js\");console.log(\"https://code.highcharts.com/stock/highcharts-more.js\");console.log(\"https://code.highcharts.com/modules/drilldown.js\");console.log(\"https://code.highcharts.com/modules/exporting.js\");console.log(\"https://code.highcharts.com/modules/heatmap.js\");console.log(\"https://code.highcharts.com/modules/treemap.js\");console.log(\"https://code.highcharts.com/modules/sunburst.js\");console.log(\"https://highcharts.github.io/export-csv/export-csv.js\");\n",
       "    });\n",
       "});"
      ],
      "text/plain": [
       "<IPython.core.display.Javascript object>"
      ]
     },
     "metadata": {},
     "output_type": "display_data"
    },
    {
     "data": {
      "text/html": [
       "<script>\n",
       "require([\"https://cdnjs.cloudflare.com/ajax/libs/vis/4.7.0/vis.js\"], function(lib) {\n",
       "    console.log(\"The following js libs loaded:\");\n",
       "    console.log(\"https://cdnjs.cloudflare.com/ajax/libs/vis/4.7.0/vis.js\");\n",
       "    window.vis = jQuery.extend(true, {}, lib);\n",
       "    console.log('vis js lib accessible as vis');\n",
       "\n",
       "});\n",
       "</script>"
      ],
      "text/plain": [
       "<IPython.core.display.HTML object>"
      ]
     },
     "metadata": {},
     "output_type": "display_data"
    }
   ],
   "source": [
    "%matplotlib inline\n",
    "\n",
    "import datetime as dt\n",
    "import numpy as np\n",
    "import pandas as pd\n",
    "\n",
    "from pandas.tseries.offsets import BDay\n",
    "\n",
    "from sgmarkets_api_auth import Api\n",
    "from sgmarkets_plot import Plot\n",
    "import sgmarkets_api_analytics_rotb as ROTB\n",
    "from sgmarkets_api_auth.util import topickle, unpickle\n",
    "import sgmarkets_api_analytics_rotb.biz as biz\n",
    "\n",
    "from IPython.display import display, Markdown, Latex, Image"
   ]
  },
  {
   "cell_type": "markdown",
   "metadata": {},
   "source": [
    "## 1 - Authentication"
   ]
  },
  {
   "cell_type": "code",
   "execution_count": 3,
   "metadata": {},
   "outputs": [
    {
     "data": {
      "text/html": [
       "<img src=\"https://gitlab.com/sgmarkets/sgmarkets-api-auth/raw/master/sgmarkets_api_auth/img/sg-research-logo-displayed.png\"/>"
      ],
      "text/plain": [
       "<IPython.core.display.Image object>"
      ]
     },
     "metadata": {},
     "output_type": "display_data"
    },
    {
     "name": "stdout",
     "output_type": "stream",
     "text": [
      "Variables in /Users/Olivier/my_secret.txt\n",
      "SG_LOGIN=o**********************************m\n",
      "SG_PASSWORD=m****************d\n",
      "PROXY_LOGIN=m*******************n\n",
      "PROXY_PASSWORD=m************d\n",
      "PROXY_HOST=m************t\n",
      "PROXY_PORT=9*******9\n",
      "Token endpoint: https://login.sgmarkets.com/richclient/gettoken\n",
      "proxies: {}\n",
      "Access token {b102****************************532e} loaded from file /Users/Olivier/my_token.txt\n"
     ]
    }
   ],
   "source": [
    "a = Api(verbose=True)"
   ]
  },
  {
   "cell_type": "markdown",
   "metadata": {},
   "source": [
    "## 2 - Build Request"
   ]
  },
  {
   "cell_type": "code",
   "execution_count": 4,
   "metadata": {
    "scrolled": true
   },
   "outputs": [
    {
     "data": {
      "text/markdown": [
       "**<span style=\"color:red;\">WARNING</span> -**improper combinaison of parameters resulting in an unclear strategy, by default missing parameters will be filled by repetition"
      ],
      "text/plain": [
       "<IPython.core.display.Markdown object>"
      ]
     },
     "metadata": {},
     "output_type": "display_data"
    },
    {
     "data": {
      "text/markdown": [
       "**<span style=\"color:black;\">INFO</span> -** Your request contains 2 prices over 5 dates i.e. total 10 prices."
      ],
      "text/plain": [
       "<IPython.core.display.Markdown object>"
      ]
     },
     "metadata": {},
     "output_type": "display_data"
    },
    {
     "data": {
      "text/markdown": [
       "\n",
       "A RequestROTB object has the properties after the `expand()` method:\n",
       "+ `url`: https://analytics-api.sgmarkets.com/rotb/v1/compute-strategy\n",
       "+ `dic_input`: user input (dictionary)\n",
       "+ `df_top`: parameters of the request not in a leg (dataframe)\n",
       "+ `df_leg`: parameters of the request in a leg (dataframe)\n",
       "    + A leg contains the following parameters: ['curve', 'expiry', 'tenor', 'strike', 'nominal', 'type', 'settlement', 'pricingStrategy', 'strategyWeight', 'customEntries']\n",
       "    + Each param can have multiple comma separated values\n",
       "+ `li_dic_api`: data ready to be sent to the API - built from user input by `expand()` (list of dictionaries)\n",
       "    + This is a list because the request may be split in several chunks\n",
       "    + Legs are constructed from user input and by filling missing values by repition if needed.\n",
       "        "
      ],
      "text/plain": [
       "<IPython.core.display.Markdown object>"
      ]
     },
     "execution_count": 4,
     "metadata": {},
     "output_type": "execute_result"
    }
   ],
   "source": [
    "ep = ROTB.endpoint.v1_compute_strategy\n",
    "rq = ep.request()\n",
    "start=dt.date.today()-dt.timedelta(days=10)\n",
    "end=dt.date.today()-dt.timedelta(days=2)\n",
    "rq.targetCurrency='EUR'\n",
    "rq.errorMode = 'Full'\n",
    "rq.startDate = start.strftime('%Y-%m-%d')\n",
    "rq.endDate = end.strftime('%Y-%m-%d')\n",
    "\n",
    "rq.weighting = 'DV01'\n",
    "\n",
    "rq.curve = 'JPY LIBOR 6M,EUR EURIBOR 6M'\n",
    "rq.expiry = '3M,6M'\n",
    "rq.tenor = '10Y,5Y'\n",
    "rq.strike= '@0bp'\n",
    "rq.type = 'receiver'\n",
    "rq.settlement = 'cash'\n",
    "rq.pricingStrategy = 'Auto'\n",
    "rq.nominal = int(1e6)\n",
    "rq.strategyWeight = '1,-1'\n",
    "\n",
    "rq.expand()\n",
    "rq.info()"
   ]
  },
  {
   "cell_type": "markdown",
   "metadata": {},
   "source": [
    "## 3 - Make request"
   ]
  },
  {
   "cell_type": "code",
   "execution_count": 5,
   "metadata": {},
   "outputs": [
    {
     "name": "stdout",
     "output_type": "stream",
     "text": [
      "calling API...\n",
      "chunk 1/1 done in 1.04 s\n"
     ]
    }
   ],
   "source": [
    "res1 = rq.call_api(a)"
   ]
  },
  {
   "cell_type": "markdown",
   "metadata": {},
   "source": [
    "## 4 - Response\n",
    "The **ROTB.endpoint.v1_compute_strategy** endpoint returns 2 results:\n",
    "+ Strategy\n",
    "+ Components"
   ]
  },
  {
   "cell_type": "code",
   "execution_count": 6,
   "metadata": {},
   "outputs": [
    {
     "data": {
      "text/markdown": [
       "\n",
       "A PostprocessROTB object from ComputeStrategy endpoint has the properties:\n",
       "    \n",
       "+ Contains two sub-objects:\n",
       "    +   `.components` : object of class computestrategycomponent   \n",
       "    +    `.strategy`: object of class computestrategyprice\n",
       "+ Common properties:\n",
       "    + `df_req`: request data (dataframe)\n",
       "    + `df_res`: response data (dataframe)\n",
       "    + `dic_req_param`: params in request, each param contains a list of all values taken (dictionary)\n",
       "    + `dic_res_param`: params in response, each param contains a list of all values taken (dictionary)\n",
       "    + `raw_data`: raw data in response under key 'componentSeries' (dictionary)\n",
       "+ Additional properties for .components sub-object:    \n",
       "    + `df_set`: request and response data combined (dataframe)\n",
       "\n",
       "and the methods:\n",
       "+ `save()` to save the data as `.csv` and `.xlsx` files\n",
       "        "
      ],
      "text/plain": [
       "<IPython.core.display.Markdown object>"
      ]
     },
     "execution_count": 6,
     "metadata": {},
     "output_type": "execute_result"
    }
   ],
   "source": [
    "res1.info()"
   ]
  },
  {
   "cell_type": "markdown",
   "metadata": {},
   "source": [
    "### 4.1 - Save to Disk"
   ]
  },
  {
   "cell_type": "code",
   "execution_count": 7,
   "metadata": {},
   "outputs": [
    {
     "name": "stdout",
     "output_type": "stream",
     "text": [
      "file dump/SG_Research_ROTBComponents_20180403_193650.csv saved\n",
      "file dump/SG_Research_ROTBStrategy_res_20180403_193650.csv saved\n",
      "file dump/SG_Research_ROTBStrategy_req_20180403_193650.csv saved\n"
     ]
    }
   ],
   "source": [
    "res1.save()"
   ]
  },
  {
   "cell_type": "markdown",
   "metadata": {},
   "source": [
    "### 4.2 - Result as Dataframe"
   ]
  },
  {
   "cell_type": "code",
   "execution_count": 8,
   "metadata": {},
   "outputs": [
    {
     "data": {
      "text/html": [
       "<div>\n",
       "<style scoped>\n",
       "    .dataframe tbody tr th:only-of-type {\n",
       "        vertical-align: middle;\n",
       "    }\n",
       "\n",
       "    .dataframe tbody tr th {\n",
       "        vertical-align: top;\n",
       "    }\n",
       "\n",
       "    .dataframe thead th {\n",
       "        text-align: right;\n",
       "    }\n",
       "</style>\n",
       "<table border=\"1\" class=\"dataframe\">\n",
       "  <thead>\n",
       "    <tr style=\"text-align: right;\">\n",
       "      <th></th>\n",
       "      <th>delta</th>\n",
       "      <th>forwardValue</th>\n",
       "      <th>gamma</th>\n",
       "      <th>spotValue</th>\n",
       "      <th>theta</th>\n",
       "      <th>vega</th>\n",
       "      <th>volNormal</th>\n",
       "      <th>tag</th>\n",
       "    </tr>\n",
       "    <tr>\n",
       "      <th>date</th>\n",
       "      <th></th>\n",
       "      <th></th>\n",
       "      <th></th>\n",
       "      <th></th>\n",
       "      <th></th>\n",
       "      <th></th>\n",
       "      <th></th>\n",
       "      <th></th>\n",
       "    </tr>\n",
       "  </thead>\n",
       "  <tbody>\n",
       "    <tr>\n",
       "      <th>2018-03-26</th>\n",
       "      <td>-488.618669</td>\n",
       "      <td>2739.982418</td>\n",
       "      <td>54.723559</td>\n",
       "      <td>2740.212440</td>\n",
       "      <td>-15.093457</td>\n",
       "      <td>195.104600</td>\n",
       "      <td>-0.002037</td>\n",
       "      <td>0</td>\n",
       "    </tr>\n",
       "    <tr>\n",
       "      <th>2018-03-27</th>\n",
       "      <td>-488.282772</td>\n",
       "      <td>2783.291749</td>\n",
       "      <td>53.831316</td>\n",
       "      <td>2783.528277</td>\n",
       "      <td>-15.326481</td>\n",
       "      <td>194.972534</td>\n",
       "      <td>-0.001987</td>\n",
       "      <td>1</td>\n",
       "    </tr>\n",
       "    <tr>\n",
       "      <th>2018-03-28</th>\n",
       "      <td>-488.255471</td>\n",
       "      <td>2822.838652</td>\n",
       "      <td>53.075301</td>\n",
       "      <td>2823.097839</td>\n",
       "      <td>-15.543550</td>\n",
       "      <td>194.962208</td>\n",
       "      <td>-0.002005</td>\n",
       "      <td>2</td>\n",
       "    </tr>\n",
       "    <tr>\n",
       "      <th>2018-03-29</th>\n",
       "      <td>-488.118105</td>\n",
       "      <td>2694.156758</td>\n",
       "      <td>55.530205</td>\n",
       "      <td>2694.399903</td>\n",
       "      <td>-14.841409</td>\n",
       "      <td>194.911020</td>\n",
       "      <td>-0.002040</td>\n",
       "      <td>3</td>\n",
       "    </tr>\n",
       "    <tr>\n",
       "      <th>2018-03-30</th>\n",
       "      <td>-487.984631</td>\n",
       "      <td>2624.457665</td>\n",
       "      <td>56.942327</td>\n",
       "      <td>2624.689463</td>\n",
       "      <td>-14.621733</td>\n",
       "      <td>193.790747</td>\n",
       "      <td>-0.002068</td>\n",
       "      <td>4</td>\n",
       "    </tr>\n",
       "  </tbody>\n",
       "</table>\n",
       "</div>"
      ],
      "text/plain": [
       "                 delta  forwardValue      gamma    spotValue      theta  \\\n",
       "date                                                                      \n",
       "2018-03-26 -488.618669   2739.982418  54.723559  2740.212440 -15.093457   \n",
       "2018-03-27 -488.282772   2783.291749  53.831316  2783.528277 -15.326481   \n",
       "2018-03-28 -488.255471   2822.838652  53.075301  2823.097839 -15.543550   \n",
       "2018-03-29 -488.118105   2694.156758  55.530205  2694.399903 -14.841409   \n",
       "2018-03-30 -487.984631   2624.457665  56.942327  2624.689463 -14.621733   \n",
       "\n",
       "                  vega  volNormal  tag  \n",
       "date                                    \n",
       "2018-03-26  195.104600  -0.002037    0  \n",
       "2018-03-27  194.972534  -0.001987    1  \n",
       "2018-03-28  194.962208  -0.002005    2  \n",
       "2018-03-29  194.911020  -0.002040    3  \n",
       "2018-03-30  193.790747  -0.002068    4  "
      ]
     },
     "execution_count": 8,
     "metadata": {},
     "output_type": "execute_result"
    }
   ],
   "source": [
    "res1.strategy.df_res"
   ]
  },
  {
   "cell_type": "markdown",
   "metadata": {},
   "source": [
    "### 4.3 - Filter Components"
   ]
  },
  {
   "cell_type": "code",
   "execution_count": 9,
   "metadata": {
    "scrolled": false
   },
   "outputs": [
    {
     "data": {
      "text/html": [
       "<div>\n",
       "<style scoped>\n",
       "    .dataframe tbody tr th:only-of-type {\n",
       "        vertical-align: middle;\n",
       "    }\n",
       "\n",
       "    .dataframe tbody tr th {\n",
       "        vertical-align: top;\n",
       "    }\n",
       "\n",
       "    .dataframe thead tr th {\n",
       "        text-align: left;\n",
       "    }\n",
       "\n",
       "    .dataframe thead tr:last-of-type th {\n",
       "        text-align: right;\n",
       "    }\n",
       "</style>\n",
       "<table border=\"1\" class=\"dataframe\">\n",
       "  <thead>\n",
       "    <tr>\n",
       "      <th></th>\n",
       "      <th>forwardRate</th>\n",
       "      <th>volNormal</th>\n",
       "    </tr>\n",
       "    <tr>\n",
       "      <th>curve</th>\n",
       "      <th>JPY LIBOR 6M</th>\n",
       "      <th>JPY LIBOR 6M</th>\n",
       "    </tr>\n",
       "    <tr>\n",
       "      <th>date</th>\n",
       "      <th></th>\n",
       "      <th></th>\n",
       "    </tr>\n",
       "  </thead>\n",
       "  <tbody>\n",
       "    <tr>\n",
       "      <th>2018-03-26</th>\n",
       "      <td>0.002958</td>\n",
       "      <td>0.001427</td>\n",
       "    </tr>\n",
       "    <tr>\n",
       "      <th>2018-03-27</th>\n",
       "      <td>0.003095</td>\n",
       "      <td>0.001449</td>\n",
       "    </tr>\n",
       "    <tr>\n",
       "      <th>2018-03-28</th>\n",
       "      <td>0.003108</td>\n",
       "      <td>0.001470</td>\n",
       "    </tr>\n",
       "    <tr>\n",
       "      <th>2018-03-29</th>\n",
       "      <td>0.003155</td>\n",
       "      <td>0.001405</td>\n",
       "    </tr>\n",
       "    <tr>\n",
       "      <th>2018-03-30</th>\n",
       "      <td>0.003209</td>\n",
       "      <td>0.001377</td>\n",
       "    </tr>\n",
       "  </tbody>\n",
       "</table>\n",
       "</div>"
      ],
      "text/plain": [
       "            forwardRate    volNormal\n",
       "curve      JPY LIBOR 6M JPY LIBOR 6M\n",
       "date                                \n",
       "2018-03-26     0.002958     0.001427\n",
       "2018-03-27     0.003095     0.001449\n",
       "2018-03-28     0.003108     0.001470\n",
       "2018-03-29     0.003155     0.001405\n",
       "2018-03-30     0.003209     0.001377"
      ]
     },
     "metadata": {},
     "output_type": "display_data"
    },
    {
     "data": {
      "text/html": [
       "<div>\n",
       "<style scoped>\n",
       "    .dataframe tbody tr th:only-of-type {\n",
       "        vertical-align: middle;\n",
       "    }\n",
       "\n",
       "    .dataframe tbody tr th {\n",
       "        vertical-align: top;\n",
       "    }\n",
       "\n",
       "    .dataframe thead tr th {\n",
       "        text-align: left;\n",
       "    }\n",
       "\n",
       "    .dataframe thead tr:last-of-type th {\n",
       "        text-align: right;\n",
       "    }\n",
       "</style>\n",
       "<table border=\"1\" class=\"dataframe\">\n",
       "  <thead>\n",
       "    <tr>\n",
       "      <th></th>\n",
       "      <th>forwardRate</th>\n",
       "      <th>volNormal</th>\n",
       "    </tr>\n",
       "    <tr>\n",
       "      <th>curve</th>\n",
       "      <th>JPY LIBOR 6M</th>\n",
       "      <th>JPY LIBOR 6M</th>\n",
       "    </tr>\n",
       "    <tr>\n",
       "      <th>expiry</th>\n",
       "      <th>3M</th>\n",
       "      <th>3M</th>\n",
       "    </tr>\n",
       "    <tr>\n",
       "      <th>date</th>\n",
       "      <th></th>\n",
       "      <th></th>\n",
       "    </tr>\n",
       "  </thead>\n",
       "  <tbody>\n",
       "    <tr>\n",
       "      <th>2018-03-26</th>\n",
       "      <td>0.002958</td>\n",
       "      <td>0.001427</td>\n",
       "    </tr>\n",
       "    <tr>\n",
       "      <th>2018-03-27</th>\n",
       "      <td>0.003095</td>\n",
       "      <td>0.001449</td>\n",
       "    </tr>\n",
       "    <tr>\n",
       "      <th>2018-03-28</th>\n",
       "      <td>0.003108</td>\n",
       "      <td>0.001470</td>\n",
       "    </tr>\n",
       "    <tr>\n",
       "      <th>2018-03-29</th>\n",
       "      <td>0.003155</td>\n",
       "      <td>0.001405</td>\n",
       "    </tr>\n",
       "    <tr>\n",
       "      <th>2018-03-30</th>\n",
       "      <td>0.003209</td>\n",
       "      <td>0.001377</td>\n",
       "    </tr>\n",
       "  </tbody>\n",
       "</table>\n",
       "</div>"
      ],
      "text/plain": [
       "            forwardRate    volNormal\n",
       "curve      JPY LIBOR 6M JPY LIBOR 6M\n",
       "expiry               3M           3M\n",
       "date                                \n",
       "2018-03-26     0.002958     0.001427\n",
       "2018-03-27     0.003095     0.001449\n",
       "2018-03-28     0.003108     0.001470\n",
       "2018-03-29     0.003155     0.001405\n",
       "2018-03-30     0.003209     0.001377"
      ]
     },
     "metadata": {},
     "output_type": "display_data"
    },
    {
     "data": {
      "text/html": [
       "<div>\n",
       "<style scoped>\n",
       "    .dataframe tbody tr th:only-of-type {\n",
       "        vertical-align: middle;\n",
       "    }\n",
       "\n",
       "    .dataframe tbody tr th {\n",
       "        vertical-align: top;\n",
       "    }\n",
       "\n",
       "    .dataframe thead tr th {\n",
       "        text-align: left;\n",
       "    }\n",
       "\n",
       "    .dataframe thead tr:last-of-type th {\n",
       "        text-align: right;\n",
       "    }\n",
       "</style>\n",
       "<table border=\"1\" class=\"dataframe\">\n",
       "  <thead>\n",
       "    <tr>\n",
       "      <th></th>\n",
       "      <th>forwardRate</th>\n",
       "      <th>volNormal</th>\n",
       "    </tr>\n",
       "    <tr>\n",
       "      <th>curve</th>\n",
       "      <th>JPY LIBOR 6M</th>\n",
       "      <th>JPY LIBOR 6M</th>\n",
       "    </tr>\n",
       "    <tr>\n",
       "      <th>expiry</th>\n",
       "      <th>3M</th>\n",
       "      <th>3M</th>\n",
       "    </tr>\n",
       "    <tr>\n",
       "      <th>tenor</th>\n",
       "      <th>10Y</th>\n",
       "      <th>10Y</th>\n",
       "    </tr>\n",
       "    <tr>\n",
       "      <th>date</th>\n",
       "      <th></th>\n",
       "      <th></th>\n",
       "    </tr>\n",
       "  </thead>\n",
       "  <tbody>\n",
       "    <tr>\n",
       "      <th>2018-03-26</th>\n",
       "      <td>0.002958</td>\n",
       "      <td>0.001427</td>\n",
       "    </tr>\n",
       "    <tr>\n",
       "      <th>2018-03-27</th>\n",
       "      <td>0.003095</td>\n",
       "      <td>0.001449</td>\n",
       "    </tr>\n",
       "    <tr>\n",
       "      <th>2018-03-28</th>\n",
       "      <td>0.003108</td>\n",
       "      <td>0.001470</td>\n",
       "    </tr>\n",
       "    <tr>\n",
       "      <th>2018-03-29</th>\n",
       "      <td>0.003155</td>\n",
       "      <td>0.001405</td>\n",
       "    </tr>\n",
       "    <tr>\n",
       "      <th>2018-03-30</th>\n",
       "      <td>0.003209</td>\n",
       "      <td>0.001377</td>\n",
       "    </tr>\n",
       "  </tbody>\n",
       "</table>\n",
       "</div>"
      ],
      "text/plain": [
       "            forwardRate    volNormal\n",
       "curve      JPY LIBOR 6M JPY LIBOR 6M\n",
       "expiry               3M           3M\n",
       "tenor               10Y          10Y\n",
       "date                                \n",
       "2018-03-26     0.002958     0.001427\n",
       "2018-03-27     0.003095     0.001449\n",
       "2018-03-28     0.003108     0.001470\n",
       "2018-03-29     0.003155     0.001405\n",
       "2018-03-30     0.003209     0.001377"
      ]
     },
     "metadata": {},
     "output_type": "display_data"
    }
   ],
   "source": [
    "# slice the request into a Multindex DataFrame\n",
    "\n",
    "dic_req_fix ={'curve':'JPY LIBOR 6M'}\n",
    "values=['volNormal','forwardRate']\n",
    "sli = ep.slice(res1.components,x=None,y='date',z=None,dic_req_fix=dic_req_fix,value=values, y_pos='index',other_pos='column')\n",
    "display(sli.df_pivot)\n",
    "\n",
    "sli = ep.slice(res1.components,x='expiry',y='date',z=None,dic_req_fix=dic_req_fix,value=values, y_pos='index',other_pos='column')\n",
    "display(sli.df_pivot)\n",
    "\n",
    "sli = ep.slice(res1.components,x='expiry',y='date',z='tenor',dic_req_fix=dic_req_fix,value=values, y_pos='index',other_pos='column')\n",
    "display(sli.df_pivot)"
   ]
  },
  {
   "cell_type": "markdown",
   "metadata": {},
   "source": [
    "## 5 - Example #2\n",
    "### Straddle"
   ]
  },
  {
   "cell_type": "code",
   "execution_count": 10,
   "metadata": {},
   "outputs": [
    {
     "data": {
      "text/markdown": [
       "**<span style=\"color:red;\">WARNING</span> -**improper combinaison of parameters resulting in an unclear strategy, by default missing parameters will be filled by repetition"
      ],
      "text/plain": [
       "<IPython.core.display.Markdown object>"
      ]
     },
     "metadata": {},
     "output_type": "display_data"
    },
    {
     "data": {
      "text/markdown": [
       "**<span style=\"color:black;\">INFO</span> -** Your request contains 2 prices over 5 dates i.e. total 10 prices."
      ],
      "text/plain": [
       "<IPython.core.display.Markdown object>"
      ]
     },
     "metadata": {},
     "output_type": "display_data"
    },
    {
     "data": {
      "text/markdown": [
       "\n",
       "A RequestROTB object has the properties after the `expand()` method:\n",
       "+ `url`: https://analytics-api.sgmarkets.com/rotb/v1/compute-strategy\n",
       "+ `dic_input`: user input (dictionary)\n",
       "+ `df_top`: parameters of the request not in a leg (dataframe)\n",
       "+ `df_leg`: parameters of the request in a leg (dataframe)\n",
       "    + A leg contains the following parameters: ['curve', 'expiry', 'tenor', 'strike', 'nominal', 'type', 'settlement', 'pricingStrategy', 'strategyWeight', 'customEntries']\n",
       "    + Each param can have multiple comma separated values\n",
       "+ `li_dic_api`: data ready to be sent to the API - built from user input by `expand()` (list of dictionaries)\n",
       "    + This is a list because the request may be split in several chunks\n",
       "    + Legs are constructed from user input and by filling missing values by repition if needed.\n",
       "        "
      ],
      "text/plain": [
       "<IPython.core.display.Markdown object>"
      ]
     },
     "execution_count": 10,
     "metadata": {},
     "output_type": "execute_result"
    }
   ],
   "source": [
    "ep = ROTB.endpoint.v1_compute_strategy\n",
    "rq = ep.request()\n",
    "start=dt.date.today()-dt.timedelta(days=10)\n",
    "end=dt.date.today()-dt.timedelta(days=2)\n",
    "rq.targetCurrency='EUR'\n",
    "rq.errorMode = 'Full'\n",
    "rq.startDate = start.strftime('%Y-%m-%d')\n",
    "rq.endDate = end.strftime('%Y-%m-%d')\n",
    "\n",
    "rq.weighting = 'DV01'\n",
    "\n",
    "rq.curve = 'EUR EURIBOR 6M'\n",
    "rq.expiry = '3M'\n",
    "rq.tenor = '10Y'\n",
    "rq.strike= '@0bp'\n",
    "rq.type = 'receiver,payer'\n",
    "rq.settlement = 'cash'\n",
    "rq.pricingStrategy = 'Auto'\n",
    "rq.nominal = int(1e6)\n",
    "rq.strategyWeight = '1'\n",
    "\n",
    "rq.expand()\n",
    "rq.info()"
   ]
  },
  {
   "cell_type": "code",
   "execution_count": 11,
   "metadata": {
    "scrolled": true
   },
   "outputs": [
    {
     "name": "stdout",
     "output_type": "stream",
     "text": [
      "calling API...\n",
      "chunk 1/1 done in 0.94 s\n"
     ]
    }
   ],
   "source": [
    "res1 = rq.call_api(a)"
   ]
  },
  {
   "cell_type": "code",
   "execution_count": 12,
   "metadata": {},
   "outputs": [
    {
     "data": {
      "text/html": [
       "<div>\n",
       "<style scoped>\n",
       "    .dataframe tbody tr th:only-of-type {\n",
       "        vertical-align: middle;\n",
       "    }\n",
       "\n",
       "    .dataframe tbody tr th {\n",
       "        vertical-align: top;\n",
       "    }\n",
       "\n",
       "    .dataframe thead th {\n",
       "        text-align: right;\n",
       "    }\n",
       "</style>\n",
       "<table border=\"1\" class=\"dataframe\">\n",
       "  <thead>\n",
       "    <tr style=\"text-align: right;\">\n",
       "      <th></th>\n",
       "      <th>delta</th>\n",
       "      <th>forwardValue</th>\n",
       "      <th>gamma</th>\n",
       "      <th>spotValue</th>\n",
       "      <th>theta</th>\n",
       "      <th>vega</th>\n",
       "      <th>volNormal</th>\n",
       "      <th>tag</th>\n",
       "    </tr>\n",
       "    <tr>\n",
       "      <th>date</th>\n",
       "      <th></th>\n",
       "      <th></th>\n",
       "      <th></th>\n",
       "      <th></th>\n",
       "      <th></th>\n",
       "      <th></th>\n",
       "      <th></th>\n",
       "      <th></th>\n",
       "    </tr>\n",
       "  </thead>\n",
       "  <tbody>\n",
       "    <tr>\n",
       "      <th>2018-03-26</th>\n",
       "      <td>9.453089e-07</td>\n",
       "      <td>14248.222628</td>\n",
       "      <td>39.890718</td>\n",
       "      <td>14261.188354</td>\n",
       "      <td>-77.506458</td>\n",
       "      <td>378.670321</td>\n",
       "      <td>0.007532</td>\n",
       "      <td>0</td>\n",
       "    </tr>\n",
       "    <tr>\n",
       "      <th>2018-03-27</th>\n",
       "      <td>9.462721e-07</td>\n",
       "      <td>14144.286325</td>\n",
       "      <td>40.265788</td>\n",
       "      <td>14157.150327</td>\n",
       "      <td>-76.941034</td>\n",
       "      <td>379.056112</td>\n",
       "      <td>0.007470</td>\n",
       "      <td>1</td>\n",
       "    </tr>\n",
       "    <tr>\n",
       "      <th>2018-03-28</th>\n",
       "      <td>9.469999e-07</td>\n",
       "      <td>14319.673681</td>\n",
       "      <td>39.833846</td>\n",
       "      <td>14332.693578</td>\n",
       "      <td>-77.895074</td>\n",
       "      <td>379.347746</td>\n",
       "      <td>0.007556</td>\n",
       "      <td>2</td>\n",
       "    </tr>\n",
       "    <tr>\n",
       "      <th>2018-03-29</th>\n",
       "      <td>9.468211e-07</td>\n",
       "      <td>13978.502827</td>\n",
       "      <td>40.790789</td>\n",
       "      <td>13991.163105</td>\n",
       "      <td>-76.038930</td>\n",
       "      <td>379.276070</td>\n",
       "      <td>0.007378</td>\n",
       "      <td>3</td>\n",
       "    </tr>\n",
       "    <tr>\n",
       "      <th>2018-03-30</th>\n",
       "      <td>9.472560e-07</td>\n",
       "      <td>13970.302651</td>\n",
       "      <td>40.852635</td>\n",
       "      <td>13982.819085</td>\n",
       "      <td>-76.828676</td>\n",
       "      <td>377.382425</td>\n",
       "      <td>0.007410</td>\n",
       "      <td>4</td>\n",
       "    </tr>\n",
       "  </tbody>\n",
       "</table>\n",
       "</div>"
      ],
      "text/plain": [
       "                   delta  forwardValue      gamma     spotValue      theta  \\\n",
       "date                                                                         \n",
       "2018-03-26  9.453089e-07  14248.222628  39.890718  14261.188354 -77.506458   \n",
       "2018-03-27  9.462721e-07  14144.286325  40.265788  14157.150327 -76.941034   \n",
       "2018-03-28  9.469999e-07  14319.673681  39.833846  14332.693578 -77.895074   \n",
       "2018-03-29  9.468211e-07  13978.502827  40.790789  13991.163105 -76.038930   \n",
       "2018-03-30  9.472560e-07  13970.302651  40.852635  13982.819085 -76.828676   \n",
       "\n",
       "                  vega  volNormal  tag  \n",
       "date                                    \n",
       "2018-03-26  378.670321   0.007532    0  \n",
       "2018-03-27  379.056112   0.007470    1  \n",
       "2018-03-28  379.347746   0.007556    2  \n",
       "2018-03-29  379.276070   0.007378    3  \n",
       "2018-03-30  377.382425   0.007410    4  "
      ]
     },
     "execution_count": 12,
     "metadata": {},
     "output_type": "execute_result"
    }
   ],
   "source": [
    "res1.strategy.df_res"
   ]
  },
  {
   "cell_type": "code",
   "execution_count": 13,
   "metadata": {},
   "outputs": [
    {
     "data": {
      "text/html": [
       "<div>\n",
       "<style scoped>\n",
       "    .dataframe tbody tr th:only-of-type {\n",
       "        vertical-align: middle;\n",
       "    }\n",
       "\n",
       "    .dataframe tbody tr th {\n",
       "        vertical-align: top;\n",
       "    }\n",
       "\n",
       "    .dataframe thead tr th {\n",
       "        text-align: left;\n",
       "    }\n",
       "\n",
       "    .dataframe thead tr:last-of-type th {\n",
       "        text-align: right;\n",
       "    }\n",
       "</style>\n",
       "<table border=\"1\" class=\"dataframe\">\n",
       "  <thead>\n",
       "    <tr>\n",
       "      <th></th>\n",
       "      <th colspan=\"2\" halign=\"left\">forwardRate</th>\n",
       "      <th colspan=\"2\" halign=\"left\">volNormal</th>\n",
       "    </tr>\n",
       "    <tr>\n",
       "      <th>type</th>\n",
       "      <th>payer</th>\n",
       "      <th>receiver</th>\n",
       "      <th>payer</th>\n",
       "      <th>receiver</th>\n",
       "    </tr>\n",
       "    <tr>\n",
       "      <th>date</th>\n",
       "      <th></th>\n",
       "      <th></th>\n",
       "      <th></th>\n",
       "      <th></th>\n",
       "    </tr>\n",
       "  </thead>\n",
       "  <tbody>\n",
       "    <tr>\n",
       "      <th>2018-03-26</th>\n",
       "      <td>0.010534</td>\n",
       "      <td>0.010534</td>\n",
       "      <td>0.003766</td>\n",
       "      <td>0.003766</td>\n",
       "    </tr>\n",
       "    <tr>\n",
       "      <th>2018-03-27</th>\n",
       "      <td>0.010345</td>\n",
       "      <td>0.010345</td>\n",
       "      <td>0.003735</td>\n",
       "      <td>0.003735</td>\n",
       "    </tr>\n",
       "    <tr>\n",
       "      <th>2018-03-28</th>\n",
       "      <td>0.010199</td>\n",
       "      <td>0.010199</td>\n",
       "      <td>0.003778</td>\n",
       "      <td>0.003778</td>\n",
       "    </tr>\n",
       "    <tr>\n",
       "      <th>2018-03-29</th>\n",
       "      <td>0.010228</td>\n",
       "      <td>0.010228</td>\n",
       "      <td>0.003689</td>\n",
       "      <td>0.003689</td>\n",
       "    </tr>\n",
       "    <tr>\n",
       "      <th>2018-03-30</th>\n",
       "      <td>0.010141</td>\n",
       "      <td>0.010141</td>\n",
       "      <td>0.003705</td>\n",
       "      <td>0.003705</td>\n",
       "    </tr>\n",
       "  </tbody>\n",
       "</table>\n",
       "</div>"
      ],
      "text/plain": [
       "           forwardRate           volNormal          \n",
       "type             payer  receiver     payer  receiver\n",
       "date                                                \n",
       "2018-03-26    0.010534  0.010534  0.003766  0.003766\n",
       "2018-03-27    0.010345  0.010345  0.003735  0.003735\n",
       "2018-03-28    0.010199  0.010199  0.003778  0.003778\n",
       "2018-03-29    0.010228  0.010228  0.003689  0.003689\n",
       "2018-03-30    0.010141  0.010141  0.003705  0.003705"
      ]
     },
     "execution_count": 13,
     "metadata": {},
     "output_type": "execute_result"
    }
   ],
   "source": [
    "# slice the request into a Multindex DataFrame\n",
    "\n",
    "dic_req_fix ={}\n",
    "values=['volNormal','forwardRate']\n",
    "sli = ep.slice(res1.components,x='type',y='date',z=None,dic_req_fix=dic_req_fix,value=values, y_pos='index',other_pos='column')\n",
    "\n",
    "sli.df_pivot"
   ]
  },
  {
   "cell_type": "code",
   "execution_count": null,
   "metadata": {},
   "outputs": [],
   "source": []
  }
 ],
 "metadata": {
  "kernelspec": {
   "display_name": "Python 3",
   "language": "python",
   "name": "python3"
  },
  "language_info": {
   "codemirror_mode": {
    "name": "ipython",
    "version": 3
   },
   "file_extension": ".py",
   "mimetype": "text/x-python",
   "name": "python",
   "nbconvert_exporter": "python",
   "pygments_lexer": "ipython3",
   "version": "3.6.3"
  }
 },
 "nbformat": 4,
 "nbformat_minor": 2
}
