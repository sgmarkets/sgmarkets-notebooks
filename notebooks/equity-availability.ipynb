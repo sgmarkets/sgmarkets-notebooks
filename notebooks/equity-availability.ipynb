{
 "cells": [
  {
   "cell_type": "code",
   "execution_count": null,
   "metadata": {},
   "outputs": [],
   "source": [
    "import datetime as dt\n",
    "import numpy as np\n",
    "import pandas as pd\n",
    "import ezhc as hc\n",
    "\n",
    "from IPython.display import display, HTML\n",
    "from notebook_wide_screen import WideScreen\n",
    "from ezaggrid import AgGrid\n",
    "\n",
    "from sgmarkets_api_auth import Api"
   ]
  },
  {
   "cell_type": "code",
   "execution_count": null,
   "metadata": {},
   "outputs": [],
   "source": [
    "WideScreen(width='95%', verbose=False).add_css()"
   ]
  },
  {
   "cell_type": "markdown",
   "metadata": {},
   "source": [
    "<h3 markdown=\"2\" style=\"margin-left: 0%; color:#636363;\">Data Source</h3>\n",
    "\n",
    "If the authentication fails follow the [instructions](https://gitlab.com/sgmarkets/sgmarkets-api-auth#3-user-guide) to set up your credentials."
   ]
  },
  {
   "cell_type": "code",
   "execution_count": null,
   "metadata": {
    "scrolled": false
   },
   "outputs": [],
   "source": [
    "a = Api(verbose=False, update_token=True)"
   ]
  },
  {
   "cell_type": "code",
   "execution_count": null,
   "metadata": {
    "scrolled": false
   },
   "outputs": [],
   "source": [
    "url = 'https://analytics-api.sgmarkets.com/syntheticfinancingtrading/v1/availabilities'\n",
    "start_date = dt.datetime.today() - pd.tseries.offsets.BDay(0)\n",
    "end_check_date = start_date - dt.timedelta(days=14)\n",
    "res = {'availabilities': []}\n",
    "\n",
    "while not len(res['availabilities']) > 0:\n",
    "    formated_date = start_date.strftime('%Y-%m-%d')\n",
    "    params = {'startDate': formated_date, 'pageSize': '100000'}\n",
    "    res = a.get(url, payload=params)\n",
    "    if start_date < end_check_date:\n",
    "        break\n",
    "    else:\n",
    "        start_date = start_date - pd.tseries.offsets.BDay(1)\n",
    "df = pd.DataFrame(res['availabilities'])\n",
    "df = df[[c for c in df.columns if not c.startswith('Unnamed')]]\n",
    "df = df.dropna(axis=0, how='all')"
   ]
  },
  {
   "cell_type": "code",
   "execution_count": null,
   "metadata": {},
   "outputs": [],
   "source": [
    "def get_df_bubble(df_input, nominal_col, country_col):\n",
    "    # Keep only the required colunms\n",
    "    df = df_input.copy()\n",
    "    df = df[[country_col, nominal_col]]\n",
    "    df[nominal_col] = df.apply(lambda x: round(x[nominal_col], 0), axis=1)\n",
    "    \n",
    "    # Create agregate functions\n",
    "    df = df.groupby([country_col])[nominal_col].agg(['sum','count'])\n",
    "    df['Average Nominal'] = round(df['sum'] / df['count'],0)\n",
    "    df = df.rename(columns={'count': 'Nb Stocks', 'sum': 'Nominal'})\n",
    "    df = df.set_index(['Nb Stocks', 'Nominal'], append=True)\n",
    "    \n",
    "    return df\n",
    "\n",
    "def get_df_nature(df_input):\n",
    "    df = df_input.copy()\n",
    "    df['nature'] = np.where(df['hardToBorrow'], 'HTB', 'GC')\n",
    "    df = df[['market', 'nature']]\n",
    "    df = df.groupby(['market', 'nature']).size().reset_index(name=\"Nb Stocks\")\n",
    "    df = df.pivot(index='market', columns='nature', values='Nb Stocks')\n",
    "    return df\n",
    "\n",
    "def get_df_table(df_input):\n",
    "    df = df_input.copy()\n",
    "    df['index'] = df.index.values\n",
    "    df['sector'] = df.apply(lambda x: str(x['sector']).replace(',',';'), axis=1)\n",
    "    return df\n",
    "\n",
    "def build_centered_html(g):\n",
    "    html = \"\"\"<div align=\"center\">{}</div>\"\"\".format(g.html())\n",
    "    return html\n",
    "\n",
    "def plot_series_bubble_html(df_bubble):\n",
    "    g = hc.Highcharts()\n",
    "    g.exporting = False\n",
    "    g.chart.type = 'bubble'\n",
    "    g.chart.width = 750\n",
    "    g.chart.height = 500\n",
    "    g.chart.spacingLeft = 150*0  \n",
    "    \n",
    "    g.chart.zoomType = 'xy'\n",
    "    g.plotOptions.bubble.minSize = 20\n",
    "    g.plotOptions.bubble.maxSize = 60\n",
    "    g.legend.enabled = True\n",
    "    g.title.text = ''\n",
    "    g.xAxis.title.text = 'Number of stock'\n",
    "    g.yAxis.title.text = 'Nominal (EUR)'\n",
    "    g.yAxis.type= 'logarithmic'\n",
    "\n",
    "    g.series = hc.build.series_bubble(df_bubble)\n",
    "\n",
    "    html = build_centered_html(g)\n",
    "    return html\n",
    "\n",
    "def plot_series_bar_html(df_nature):\n",
    "    g = hc.Highcharts()\n",
    "    g.exporting = False\n",
    "    g.chart.type = 'bar'\n",
    "    g.chart.width = 750\n",
    "    g.chart.height = 500\n",
    "    g.chart.spacingLeft = 150\n",
    "    # g.chart.spacingRight = 300\n",
    "    g.title.text = ''\n",
    "    g.xAxis.title.text = 'Country'\n",
    "    g.yAxis.title.text = 'Number of stock'\n",
    "    g.plotOptions.bar.stacking = 'normal'\n",
    "    g.xAxis.categories = list(df_nature.index)\n",
    "    g.series = hc.build.series(df_nature)\n",
    "\n",
    "    html = build_centered_html(g)\n",
    "    return html\n",
    "\n",
    "def build_aggrid_table(df_table):\n",
    "    cols = df_table.columns.values\n",
    "    cols = list(cols)\n",
    "    list_first_order = ['index', 'bbg', 'quantity', 'nominalEur']\n",
    "    for elt in list_first_order:\n",
    "        cols.insert(list_first_order.index(elt), cols.pop(cols.index(elt)))\n",
    "    df_table = df_table.reindex(columns=cols)\n",
    "\n",
    "    list_nominal = ['index', 'quantity', 'nominalCcy', 'nominalEur', 'nominalGbp', 'nominalUsd']\n",
    "    columnDefs = []\n",
    "    for elt in df_table.columns:\n",
    "        if elt in list_nominal:\n",
    "            columnDefs.append({'headerName': elt, 'field': elt, 'width': 150, \n",
    "                               'valueFormatter': 'Math.round(value).toLocaleString(\"en\")'})\n",
    "        else:\n",
    "            columnDefs.append({'headerName': elt, 'field': elt, 'width': 150})\n",
    "\n",
    "    cellStyle = {'text-align': 'center'}\n",
    "\n",
    "    grid_options = {\n",
    "        'columnDefs': columnDefs,\n",
    "        'enableFilter': True,\n",
    "        'enableSorting': True,\n",
    "        'enableColResize': True,\n",
    "        'rowStyle' : cellStyle,\n",
    "        'pagination': True,\n",
    "        'paginationPageSize' : 20\n",
    "    }\n",
    "\n",
    "    ag = AgGrid(grid_data=df_table,\n",
    "                grid_options=grid_options,\n",
    "                css_rules=None,\n",
    "                width=990,\n",
    "                height=560,\n",
    "                index=False,\n",
    "                quick_filter=True,\n",
    "                export_csv=True,\n",
    "                export_excel=False,\n",
    "                theme='ag-theme-fresh')\n",
    "    return ag"
   ]
  },
  {
   "cell_type": "markdown",
   "metadata": {},
   "source": [
    "<h2 markdown=\"2\" style=\"margin-left: 5%; color:#636363;\">Equity Availability</h2>"
   ]
  },
  {
   "cell_type": "markdown",
   "metadata": {},
   "source": [
    "<h3 markdown=\"3\" style=\"margin-left: 5%; color:#636363;\">1 - Country Availability</h3>"
   ]
  },
  {
   "cell_type": "code",
   "execution_count": null,
   "metadata": {},
   "outputs": [],
   "source": [
    "df_country = get_df_bubble(df,'nominalEur', 'market')\n",
    "html_countty = plot_series_bubble_html(df_country)\n",
    "HTML(html_countty)"
   ]
  },
  {
   "cell_type": "markdown",
   "metadata": {},
   "source": [
    "<h3 markdown=\"3\" style=\"margin-left: 5%; color:#636363;\">2 - Sector Availability</h3>"
   ]
  },
  {
   "cell_type": "code",
   "execution_count": null,
   "metadata": {},
   "outputs": [],
   "source": [
    "df_sector = get_df_bubble(df,'nominalEur', 'sector')\n",
    "html_sector = plot_series_bubble_html(df_sector)\n",
    "HTML(html_sector)"
   ]
  },
  {
   "cell_type": "markdown",
   "metadata": {},
   "source": [
    "<h3 markdown=\"3\" style=\"margin-left: 5%; color:#636363;\">3 - GC/HTB availibility</h3>"
   ]
  },
  {
   "cell_type": "code",
   "execution_count": null,
   "metadata": {},
   "outputs": [],
   "source": [
    "df_nature = get_df_nature(df)\n",
    "html_nature = plot_series_bar_html(df_nature)\n",
    "HTML(html_nature)"
   ]
  },
  {
   "cell_type": "markdown",
   "metadata": {},
   "source": [
    "<h3 markdown=\"3\" style=\"margin-left: 5%; color:#636363;\">4 - Data Summary</h3>"
   ]
  },
  {
   "cell_type": "code",
   "execution_count": null,
   "metadata": {},
   "outputs": [],
   "source": [
    "df_table = get_df_table(df)\n",
    "ag = build_aggrid_table(df_table)\n",
    "ag.show()"
   ]
  },
  {
   "cell_type": "code",
   "execution_count": null,
   "metadata": {},
   "outputs": [],
   "source": []
  }
 ],
 "metadata": {
  "kernelspec": {
   "display_name": "Python 3",
   "language": "python",
   "name": "python3"
  },
  "language_info": {
   "codemirror_mode": {
    "name": "ipython",
    "version": 3
   },
   "file_extension": ".py",
   "mimetype": "text/x-python",
   "name": "python",
   "nbconvert_exporter": "python",
   "pygments_lexer": "ipython3",
   "version": "3.7.0"
  },
  "widgets": {
   "application/vnd.jupyter.widget-state+json": {
    "state": {},
    "version_major": 2,
    "version_minor": 0
   }
  }
 },
 "nbformat": 4,
 "nbformat_minor": 2
}
